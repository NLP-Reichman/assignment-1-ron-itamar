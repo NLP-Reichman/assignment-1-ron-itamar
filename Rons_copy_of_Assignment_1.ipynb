{
  "cells": [
    {
      "cell_type": "markdown",
      "metadata": {
        "id": "FECp14-d_F2e"
      },
      "source": [
        "# Set up"
      ]
    },
    {
      "cell_type": "code",
      "execution_count": 88,
      "metadata": {
        "colab": {
          "base_uri": "https://localhost:8080/"
        },
        "id": "za-DgcYB_IQx",
        "outputId": "6fa520fa-31d6-4ec3-939a-566549fe75f1"
      },
      "outputs": [
        {
          "name": "stderr",
          "output_type": "stream",
          "text": [
            "'git' is not recognized as an internal or external command,\n",
            "operable program or batch file.\n",
            "'mv' is not recognized as an internal or external command,\n",
            "operable program or batch file.\n",
            "'rm' is not recognized as an internal or external command,\n",
            "operable program or batch file.\n"
          ]
        }
      ],
      "source": [
        "!git clone https://github.com/NLP-Reichman/assignment_1.git\n",
        "!mv assignment_1/data data\n",
        "!rm assignment_1/ -r"
      ]
    },
    {
      "cell_type": "markdown",
      "metadata": {
        "id": "0i2bOXTB8Dvc"
      },
      "source": [
        "# Introduction\n",
        "In this assignment you will be creating tools for learning and testing language models. The corpora that you will be working with are lists of tweets in 8 different languages that use the Latin script. The data is provided either formatted as CSV or as JSON, for your convenience. The end goal is to write a set of tools that can detect the language of a given tweet.\n",
        "The relevant files are under the data folder:\n",
        "\n",
        "- en.csv (or the equivalent JSON file)\n",
        "- es.csv (or the equivalent JSON file)\n",
        "- fr.csv (or the equivalent JSON file)\n",
        "- in.csv (or the equivalent JSON file)\n",
        "- it.csv (or the equivalent JSON file)\n",
        "- nl.csv (or the equivalent JSON file)\n",
        "- pt.csv (or the equivalent JSON file)\n",
        "- tl.csv (or the equivalent JSON file)"
      ]
    },
    {
      "cell_type": "code",
      "execution_count": 89,
      "metadata": {
        "id": "1u1qR7iaq_GU"
      },
      "outputs": [],
      "source": [
        "import json\n",
        "from google.colab import files\n",
        "import pandas as pd"
      ]
    },
    {
      "cell_type": "markdown",
      "metadata": {
        "id": "IHN0tWTurwkN"
      },
      "source": [
        "# Implementation"
      ]
    },
    {
      "cell_type": "markdown",
      "metadata": {
        "id": "i56aKA0K8adr"
      },
      "source": [
        "## Part 1\n",
        "Implement the function *preprocess* that iterates over all the data files and creates a single vocabulary, containing all the tokens in the data. Our token definition is a single UTF-8 encoded character. So, the vocabulary list is a simple Python list of all the characters that you see at least once in the data.\n",
        "\n",
        "Note - do NOT lowercase the sentences in whi HW."
      ]
    },
    {
      "cell_type": "code",
      "execution_count": 90,
      "metadata": {
        "colab": {
          "base_uri": "https://localhost:8080/",
          "height": 352
        },
        "id": "ws_5u7vRrg0o",
        "outputId": "8c4fbc98-1977-4305-c258-bb94db1aadfd"
      },
      "outputs": [],
      "source": [
        "import os\n",
        "start_token = '\\uE000'  # Using Private Use Area character\n",
        "end_token = '\\uE001'    # Using Private Use Area character\n",
        "def preprocess() -> list[str]:\n",
        "  '''\n",
        "  Return a list of characters, representing the shared vocabulary of all languages\n",
        "  '''\n",
        "  data_folder_path = \"./data\"\n",
        "\n",
        "  unique_characters = set()\n",
        "  # Iterate through all files in the data folder\n",
        "  for filename in os.listdir(data_folder_path):\n",
        "\n",
        "      # Check if the file is a JSON file\n",
        "      if filename.endswith(\".json\"):\n",
        "          # print(filename)\n",
        "          # Get the full path to the file\n",
        "          file_path = os.path.join(data_folder_path, filename)\n",
        "\n",
        "          # Open the file and read its contents\n",
        "          with open(file_path, \"r\", encoding='utf-8-sig') as f:\n",
        "              # Load the JSON data as a uTF-8 encoded string\n",
        "              json_data = json.load(f)\n",
        "              for key, val in json_data[\"tweet_text\"].items():\n",
        "                #   print(key, val)\n",
        "                  for c in val:\n",
        "                    unique_characters.add(c) # Update the hash with the token in utf-8 encoding\n",
        "\n",
        "                      \n",
        "\n",
        "\n",
        "  # add the 2 special chars to the set:               \n",
        "  unique_characters.add(start_token)\n",
        "  unique_characters.add(end_token)\n",
        "  return sorted(list(unique_characters))\n",
        "\n",
        "\n"
      ]
    },
    {
      "cell_type": "code",
      "execution_count": 91,
      "metadata": {},
      "outputs": [],
      "source": [
        "vocabulary = preprocess()\n",
        "vocabulary_length = len(vocabulary)\n",
        "# print(f\"Vocabulary length: {vocabulary_length}\")"
      ]
    },
    {
      "cell_type": "markdown",
      "metadata": {
        "id": "tpjtwHW08jyH"
      },
      "source": [
        "## Part 2\n",
        "Implement the function *lm* that generates a language model from a textual corpus. The function should return a dictionary (representing a model) where the keys are all the relevant *n*-1 sequences, and the values are dictionaries with the *n*_th tokens and their corresponding probabilities to occur. For example, for a trigram model (tokens are characters), it should look something like:\n",
        "\n",
        "{ \"ab\":{\"c\":0.5, \"b\":0.25, \"d\":0.25}, \"ca\":{\"a\":0.2, \"b\":0.7, \"d\":0.1} }\n",
        "\n",
        "which means for example that after the sequence \"ab\", there is a 0.5 chance that \"c\" will appear, 0.25 for \"b\" to appear and 0.25 for \"d\" to appear.\n",
        "\n",
        "Note - You should think how to add the add_one smoothing information to the dictionary and implement it."
      ]
    },
    {
      "cell_type": "code",
      "execution_count": 92,
      "metadata": {
        "id": "uySEXdEUrkq_"
      },
      "outputs": [],
      "source": [
        "unknown_key = 'Unknown'\n",
        "\n",
        "class inner_gram_dict(dict):\n",
        "    '''\n",
        "    A subclassed dictionary to store the probabilities of the nth charecter in an n-gram\n",
        "    To save memory, we will store the size of the vocabulary for the key\n",
        "     which is linked with this dict - and as a result will be able to return 1/V\n",
        "     for missing values without having to store the entire vocabulary explicitly.\n",
        "     This saves a lot of memory when the analyzed corpus is large.\n",
        "    '''\n",
        "    def __init__(self, vocabulary_size=0, *args, **kwargs):\n",
        "        super().__init__(*args, **kwargs)\n",
        "\n",
        "        self.vocabulary_size = vocabulary_size\n",
        "\n",
        "    def set_total_count(self, total_count):\n",
        "        self.total_count = total_count\n",
        "\n",
        "    def __missing__(self, key):\n",
        "        return 1 / self.vocabulary_size\n",
        "    \n",
        "def lm(lang: str, n: int, smoothed=False) -> dict[str, dict[str, float]]:\n",
        "    '''\n",
        "    Return a language model for the given lang and n_gram (n)\n",
        "    :param lang: the language of the model\n",
        "    :param n: the n_gram value\n",
        "    :return: a dictionary where the keys are n_grams and the values are dictionaries\n",
        "              with the n_th tokens and their corresponding probabilities to occur\n",
        "    '''\n",
        "    model = {}\n",
        "    model[unknown_key] = inner_gram_dict(vocabulary_length if (smoothed == True)  else 0)\n",
        "    data_folder_path = \"./data\"\n",
        "    filename = f\"{lang}.json\"\n",
        "    file_path = os.path.join(data_folder_path, filename)\n",
        "    \n",
        "    # Open the file and read its contents\n",
        "    with open(file_path, \"r\", encoding='utf-8-sig') as f:\n",
        "        json_data = json.loads(f.read())\n",
        "        # Iterate through each sentence in the corpus\n",
        "        for key, sentence in json_data[\"tweet_text\"].items():\n",
        "            # Iterate through each n-gram in the sentence\n",
        "            # add n-1 start tokens and 1 end token to the sentence:\n",
        "            sentence = start_token * (n-1) + sentence + end_token\n",
        "          \n",
        "            for i in range(len(sentence) - n + 1):\n",
        "                ngram = sentence[i:i+n-1]\n",
        "                next_token = sentence[i+n-1]\n",
        "\n",
        "                # Check if the n-gram is not already in the model\n",
        "                if ngram not in model:\n",
        "                    model[ngram] = inner_gram_dict(vocabulary_length if (smoothed == True)  else 0)\n",
        "                # handle next_token:\n",
        "                if next_token not in model[ngram]:\n",
        "                    model[ngram][next_token] = 0\n",
        "                model[ngram][next_token] += 1\n",
        "                    \n",
        "    \n",
        "    # Calculate the probabilities for each n-gram\n",
        "    for ngram in model:\n",
        "        if smoothed:\n",
        "            # add 1 to all values (preparation for smoothing):\n",
        "            for char in vocabulary:\n",
        "                if char in model[ngram]:\n",
        "                    model[ngram][char] += 1 \n",
        "\n",
        "        total_count = sum(model[ngram].values())\n",
        "        if smoothed:\n",
        "            total_count += vocabulary_length\n",
        "        for token in model[ngram]:\n",
        "            model[ngram][token] /= total_count\n",
        "    \n",
        "    return model\n"
      ]
    },
    {
      "cell_type": "code",
      "execution_count": 93,
      "metadata": {},
      "outputs": [],
      "source": [
        "# res = lm(\"en\",2)\n",
        "# print(f'unsmoothed len res: {len(res)}')\n",
        "\n",
        "# res = lm(\"en\",3, True)\n",
        "# print(f'smoothed len res: {len(res)}')\n",
        "\n",
        "# res = lm(\"fr\",3, smoothed=True)\n",
        "# print(f'smoothed len res: {len(res)}')\n",
        "# # print(res['a'])\n",
        "\n",
        "# res = lm(\"es\",3)\n",
        "# print(f'unsmoothed len res: {len(res)}')\n",
        "\n"
      ]
    },
    {
      "cell_type": "markdown",
      "metadata": {
        "id": "xwZnk7Ke8rW5"
      },
      "source": [
        "## Part 3\n",
        "Implement the function *eval* that returns the perplexity of a model (dictionary) running over the data file of the given target language."
      ]
    },
    {
      "cell_type": "code",
      "execution_count": 94,
      "metadata": {
        "id": "ef-EglxXrmk2"
      },
      "outputs": [],
      "source": [
        "import math\n",
        "import numpy as np\n",
        "def eval(model: dict, target_lang: str, n: int) -> float:\n",
        "  '''\n",
        "  Return the perplexity value calculated over applying the model on the text file\n",
        "  of the target_lang language.\n",
        "  :param model: the language model\n",
        "  :param target_lang: the target language\n",
        "  :return: the perplexity value\n",
        "  '''\n",
        "  # n = len(list(model.keys())[0]) + 1\n",
        "\n",
        "  data_folder_path = \"./data\"\n",
        "  filename = f\"{target_lang}.json\"\n",
        "  file_path = os.path.join(data_folder_path, filename)\n",
        "  perplexity = 0\n",
        "  # Open the file and read its contents\n",
        "  with open(file_path, \"r\", encoding='utf-8-sig') as f:\n",
        "      json_data = json.loads(f.read())\n",
        "      # Iterate through each sentence in the corpus\n",
        "      perplexities = []\n",
        "      for key, sentence in json_data[\"tweet_text\"].items():\n",
        "        sentence = start_token * (n-1) + sentence + end_token\n",
        "        sentence_enthropy = 0\n",
        "        # probabilities= [] (only to test the calculation)\n",
        "        for i in range(len(sentence) - n + 1):\n",
        "            ngram = sentence[i:i+n-1]\n",
        "            next_token = sentence[i+n-1]\n",
        "            if ngram not in model:\n",
        "                ngram = unknown_key\n",
        "            \n",
        "            sentence_enthropy +=  ( -1 * np.log2(model[ngram][next_token]))\n",
        "            # probabilities.append(model[ngram][next_token])\n",
        "              \n",
        "        # entropies = [-np.log2(prop) for prop in probabilities]\n",
        "        # entropy = np.average(entropies)\n",
        "        # perplexity = 2 ** entropy\n",
        "        # # assert similarity between perplexity and the perplexity calculated from the sentence's entropy\n",
        "        # # do not use == but use some tolerance, as the calculation of the perplexity is not accurate\n",
        "        # assert abs(perplexity - 2 ** (sentence_enthropy/(len(sentence) - n + 1))) < 0.0001\n",
        "        \n",
        "        perplexities.append(2 ** (sentence_enthropy/(len(sentence) - n + 1)))\n",
        "        # print(f'{sentence}\\nperplexity: {perplexities[-1]}')\n",
        "        \n",
        "  res =  np.average(perplexities)\n",
        "  \n",
        "#   print(f'perplexity: {res}')\n",
        "  return res\n",
        "  \n"
      ]
    },
    {
      "cell_type": "code",
      "execution_count": 95,
      "metadata": {},
      "outputs": [],
      "source": [
        "# for n in range(3, 4):\n",
        "#     model = lm(\"en\", n, smoothed=True)\n",
        "#     for eval_lang in [\"en\", \"fr\", \"es\"]:\n",
        "\n",
        "#         perplexity =  eval(model, eval_lang, n)\n",
        "#         print(f\"Eval lang {eval_lang} on en  SMOOTHED n=={n} : Perplexity: {perplexity}\")"
      ]
    },
    {
      "cell_type": "markdown",
      "metadata": {
        "id": "9ZYVc7hB84LP"
      },
      "source": [
        "## Part 4\n",
        "Implement the *match* function that calls *eval* using a specific value of *n* for every possible language pair among the languages we have data for. You should call *eval* for every language pair four times, with each call assign a different value for *n* (1-4). Each language pair is composed of the source language and the target language. Before you make the call, you need to call the *lm* function to create the language model for the source language. Then you can call *eval* with the language model and the target language. The function should return a pandas DataFrame with the following four columns: *source_lang*, *target_lang*, *n*, *perplexity*. The values for the first two columns are the two-letter language codes. The value for *n* is the *n* you use for generating the specific perplexity values which you should store in the forth column."
      ]
    },
    {
      "cell_type": "code",
      "execution_count": 96,
      "metadata": {
        "id": "16ew9aZWroPC"
      },
      "outputs": [],
      "source": [
        "def match() -> pd.DataFrame:\n",
        "  '''\n",
        "  Return a DataFrame containing one line per every language pair and n_gram.\n",
        "  Each line will contain the perplexity calculated when applying the language model\n",
        "  of the source language on the text of the target language.\n",
        "  :return: a DataFrame containing the perplexity values\n",
        "  '''\n",
        "  perplexity_values = []\n",
        "  for n in range(1, 5):\n",
        "    for model_lang in [\"en\", \"es\", \"fr\", \"in\", \"it\", \"nl\", \"pt\", \"tl\"]:\n",
        "      model = lm(model_lang, n, True)\n",
        "\n",
        "      for lang in [\"en\", \"es\", \"fr\", \"in\", \"it\", \"nl\", \"pt\", \"tl\"]:\n",
        "        perplexity = eval(model, lang, n)\n",
        "        perplexity_values.append({\"source\": model_lang, \"target\": lang, \"n\": n, \"perplexity\": perplexity})\n",
        "        print(f'source: {model_lang}, target: {lang}, n: {n}, perplexity: {perplexity}')\n",
        "  return pd.DataFrame(perplexity_values)\n",
        "\n",
        "# df = match()"
      ]
    },
    {
      "cell_type": "code",
      "execution_count": 97,
      "metadata": {},
      "outputs": [],
      "source": [
        "# print(df[3]['en'])"
      ]
    },
    {
      "cell_type": "markdown",
      "metadata": {},
      "source": []
    },
    {
      "cell_type": "markdown",
      "metadata": {
        "id": "pAQoR0dH9C3T"
      },
      "source": [
        "## Part 5\n",
        "Implement the *generate* function which takes a language code, *n*, the prompt (the starting text), the number of tokens to generate, and *r*, which is the random seed for any randomized action you plan to take in your implementation. The function should start generating tokens, one by one, using the language model of the given source language and *n*. The prompt should be used as a starting point for aligning on the probabilities to be used for generating the next token.\n",
        "\n",
        "Note - The generation of the next token should be from the LM's distribution."
      ]
    },
    {
      "cell_type": "code",
      "execution_count": 98,
      "metadata": {
        "id": "CpCm24-RrpuA"
      },
      "outputs": [
        {
          "name": "stdout",
          "output_type": "stream",
          "text": [
            "I am a lobiver. Yountwor L\n",
            "je suis salddminkon si avail\n"
          ]
        }
      ],
      "source": [
        "import random\n",
        "models_1 = {}\n",
        "# for each language create a model with n=1, no smoothing:\n",
        "for lang in [\"en\", \"es\", \"fr\", \"in\", \"it\", \"nl\", \"pt\", \"tl\"]:\n",
        "  models_1[lang] = lm(lang, 1, False)\n",
        "\n",
        "def get_next_token(model, ngram, lang):\n",
        "  '''\n",
        "  Return the next token based on the given model, ngram, and random value from 0 to 1.\n",
        "  '''\n",
        "  # iterate over the model[ngram] and sum the probabilities until the sum is greater than rand:\n",
        "  sum = 0\n",
        "  # get a random number between 0 to 1:\n",
        "  rand = random.random()\n",
        "  try:\n",
        "    for token, prob in model[ngram].items():\n",
        "      sum += prob\n",
        "      if sum > rand:\n",
        "        return token\n",
        "  except:\n",
        "    # if ngram is not in the model, use the n == 1 dict to get a token:\n",
        "    return get_next_token(models_1[lang], '', lang)\n",
        "\n",
        "\n",
        "def generate(lang: str, n: int, prompt: str, number_of_tokens: int, r: int) -> str:\n",
        "  '''\n",
        "  Generate text in the given language using the given parameters.\n",
        "  :param lang: the language of the model\n",
        "  :param n: the n_gram value\n",
        "  :param prompt: the prompt to start the generation\n",
        "  :param number_of_tokens: the number of tokens to generate\n",
        "  :param r: the random seed to use\n",
        "  '''\n",
        "  # initialize random seed with r\n",
        "  random.seed(r)\n",
        "  model = lm(lang, n)\n",
        "  generated_text = prompt\n",
        "  # handle short prompts (pad with start tokens)\n",
        "  if len(generated_text) < n - 1:\n",
        "    generated_text = start_token * (n - 1 - len(generated_text)) + generated_text\n",
        "   \n",
        "  for i in range(number_of_tokens):\n",
        "    ngram = generated_text[-n+1:]\n",
        "    # get next token based on the model and the dustribution in model[ngram] . use the random seed\n",
        "    next_token = get_next_token(model, ngram, lang)\n",
        "    # max(model[ngram], key=model[ngram].get)\n",
        "    generated_text += next_token\n",
        "    # break if the end token is generated:\n",
        "    if next_token == end_token:\n",
        "      break\n",
        "  return generated_text\n",
        "\n",
        "# print(generate(\"en\", 3, \"I am a\" , 20, 5))\n",
        "# print(generate(\"fr\", 3, \"je suis \", 20, 5))"
      ]
    },
    {
      "cell_type": "markdown",
      "metadata": {
        "id": "eUWX8Ugu9INH"
      },
      "source": [
        "## Part 6\n",
        "Play with your generate function, try to generate different texts in different language and various values of *n*. No need to submit anything of that."
      ]
    },
    {
      "cell_type": "code",
      "execution_count": 99,
      "metadata": {
        "id": "0ykbMBzG9LWn"
      },
      "outputs": [],
      "source": [
        "# print(generate(\"fr\", 2, \"je suis \", 20, 5))\n",
        "# print(generate(\"fr\", 2, \"je suis \", 20, 5))\n",
        "# print(generate(\"fr\", 2, \"je suis\", 20, 5))\n",
        "\n",
        "# print(generate(\"en\", 2, \"I am \", 20, 5))\n",
        "# print(generate(\"en\", 2, \"I am\", 20, 5))"
      ]
    },
    {
      "cell_type": "markdown",
      "metadata": {
        "id": "q2jNlDISr9aL"
      },
      "source": [
        "# Testing"
      ]
    },
    {
      "cell_type": "markdown",
      "metadata": {
        "id": "uv48OCT_sIYW"
      },
      "source": [
        "Copy the content of the **tests.py** file from the repo and paste below. This will create the results.json file and download it to your machine."
      ]
    },
    {
      "cell_type": "code",
      "execution_count": 100,
      "metadata": {
        "colab": {
          "base_uri": "https://localhost:8080/",
          "height": 17
        },
        "id": "JZTlc2ieruqq",
        "outputId": "48177a3b-7f5e-42fd-8ebd-e2f5a6eddf19"
      },
      "outputs": [],
      "source": [
        "####################\n",
        "# PLACE TESTS HERE #\n",
        "# Create tests\n",
        "def test_preprocess():\n",
        "    return {\n",
        "        'vocab_length': len(preprocess()),\n",
        "    }\n",
        "\n",
        "def test_lm():\n",
        "    return {\n",
        "        'english_2_gram_length': len(lm('en', 2, True)),\n",
        "        'english_3_gram_length': len(lm('en', 3, True)),\n",
        "        'french_3_gram_length': len(lm('fr', 3, True)),\n",
        "        'spanish_3_gram_length': len(lm('es', 3, True)),\n",
        "    }\n",
        "\n",
        "def test_eval():\n",
        "    return {\n",
        "        'en_en': eval(lm('en', 3, True), 'en', 3),\n",
        "        'en_fr': eval(lm('en', 3, True), 'fr', 3),\n",
        "        'en_tl': eval(lm('en', 3, True), 'tl', 3),\n",
        "        'en_nl': eval(lm('en', 3, True), 'nl', 3),\n",
        "    }\n",
        "\n",
        "def test_match():\n",
        "    df = match()\n",
        "    return {\n",
        "        'en_en_3': df[(df['source'] == 'en') & (df['target'] == 'en') & (df['n'] == 3)]['perplexity'].values[0],\n",
        "        'en_tl_3': df[(df['source'] == 'en') & (df['target'] == 'tl') & (df['n'] == 3)]['perplexity'].values[0],\n",
        "        'en_nl_3': df[(df['source'] == 'en') & (df['target'] == 'nl') & (df['n'] == 3)]['perplexity'].values[0],\n",
        "    }\n",
        "\n",
        "def test_generate():\n",
        "    return {\n",
        "        'english_1_gram': generate('en', 1, \"I\", 20, 5), \n",
        "        'english_2_gram': generate('en', 2, \"I am\", 20, 5),\n",
        "        'english_3_gram': generate('en', 3, \"I am\", 20, 5),\n",
        "        'english_4_gram': generate('en', 4, \"I Love\", 20, 5),\n",
        "        'spanish_2_gram': generate('es', 2, \"Soy\", 20, 5),\n",
        "        'spanish_3_gram': generate('es', 3, \"Soy\", 20, 5),\n",
        "        'french_2_gram': generate('fr', 2, \"Je suis\", 20, 5),\n",
        "        'french_3_gram': generate('fr', 3, \"Je suis\", 20, 5),\n",
        "    }\n",
        "\n",
        "TESTS = [test_preprocess, test_lm, test_eval, test_match, test_generate]\n",
        "\n",
        "# Run tests and save results\n",
        "res = {}\n",
        "for test in TESTS:\n",
        "    try:\n",
        "        cur_res = test()\n",
        "        res.update({test.__name__: cur_res})\n",
        "    except Exception as e:\n",
        "        res.update({test.__name__: repr(e)})\n",
        "\n",
        "with open('results.json', 'w') as f:\n",
        "    json.dump(res, f, indent=2)\n",
        "\n",
        "# Download the results.json file\n",
        "files.download('results.json')\n",
        "\n",
        "####################"
      ]
    },
    {
      "cell_type": "code",
      "execution_count": null,
      "metadata": {
        "colab": {
          "base_uri": "https://localhost:8080/"
        },
        "id": "kCksAA6RisRQ",
        "outputId": "d0a80d85-f49b-4a1d-bdbc-e9716a9574aa"
      },
      "outputs": [],
      "source": [
        "# Show the local files, results.json should be there now and\n",
        "# also downloaded to your local machine\n",
        "!ls -l"
      ]
    },
    {
      "cell_type": "code",
      "execution_count": null,
      "metadata": {
        "id": "uMSfgUtuiux0"
      },
      "outputs": [],
      "source": [
        "# temp = lm(\"en\", 4)\n",
        "# print"
      ]
    }
  ],
  "metadata": {
    "colab": {
      "provenance": []
    },
    "kernelspec": {
      "display_name": "Python 3",
      "name": "python3"
    },
    "language_info": {
      "codemirror_mode": {
        "name": "ipython",
        "version": 3
      },
      "file_extension": ".py",
      "mimetype": "text/x-python",
      "name": "python",
      "nbconvert_exporter": "python",
      "pygments_lexer": "ipython3",
      "version": "3.12.2"
    }
  },
  "nbformat": 4,
  "nbformat_minor": 0
}
