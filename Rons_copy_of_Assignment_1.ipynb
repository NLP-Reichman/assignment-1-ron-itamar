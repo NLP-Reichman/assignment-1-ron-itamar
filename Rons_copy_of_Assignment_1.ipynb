{
  "cells": [
    {
      "cell_type": "markdown",
      "metadata": {
        "id": "FECp14-d_F2e"
      },
      "source": [
        "# Set up"
      ]
    },
    {
      "cell_type": "code",
      "execution_count": 93,
      "metadata": {
        "colab": {
          "base_uri": "https://localhost:8080/"
        },
        "id": "za-DgcYB_IQx",
        "outputId": "6fa520fa-31d6-4ec3-939a-566549fe75f1"
      },
      "outputs": [
        {
          "name": "stderr",
          "output_type": "stream",
          "text": [
            "'git' is not recognized as an internal or external command,\n",
            "operable program or batch file.\n",
            "'mv' is not recognized as an internal or external command,\n",
            "operable program or batch file.\n",
            "'rm' is not recognized as an internal or external command,\n",
            "operable program or batch file.\n"
          ]
        }
      ],
      "source": [
        "!git clone https://github.com/NLP-Reichman/assignment_1.git\n",
        "!mv assignment_1/data data\n",
        "!rm assignment_1/ -r"
      ]
    },
    {
      "cell_type": "markdown",
      "metadata": {
        "id": "0i2bOXTB8Dvc"
      },
      "source": [
        "# Introduction\n",
        "In this assignment you will be creating tools for learning and testing language models. The corpora that you will be working with are lists of tweets in 8 different languages that use the Latin script. The data is provided either formatted as CSV or as JSON, for your convenience. The end goal is to write a set of tools that can detect the language of a given tweet.\n",
        "The relevant files are under the data folder:\n",
        "\n",
        "- en.csv (or the equivalent JSON file)\n",
        "- es.csv (or the equivalent JSON file)\n",
        "- fr.csv (or the equivalent JSON file)\n",
        "- in.csv (or the equivalent JSON file)\n",
        "- it.csv (or the equivalent JSON file)\n",
        "- nl.csv (or the equivalent JSON file)\n",
        "- pt.csv (or the equivalent JSON file)\n",
        "- tl.csv (or the equivalent JSON file)"
      ]
    },
    {
      "cell_type": "code",
      "execution_count": 94,
      "metadata": {
        "id": "1u1qR7iaq_GU"
      },
      "outputs": [],
      "source": [
        "import json\n",
        "# from google.colab import files\n",
        "import pandas as pd"
      ]
    },
    {
      "cell_type": "markdown",
      "metadata": {
        "id": "IHN0tWTurwkN"
      },
      "source": [
        "# Implementation"
      ]
    },
    {
      "cell_type": "markdown",
      "metadata": {
        "id": "i56aKA0K8adr"
      },
      "source": [
        "## Part 1\n",
        "Implement the function *preprocess* that iterates over all the data files and creates a single vocabulary, containing all the tokens in the data. Our token definition is a single UTF-8 encoded character. So, the vocabulary list is a simple Python list of all the characters that you see at least once in the data.\n",
        "\n",
        "Note - do NOT lowercase the sentences in whi HW."
      ]
    },
    {
      "cell_type": "code",
      "execution_count": 95,
      "metadata": {
        "colab": {
          "base_uri": "https://localhost:8080/",
          "height": 352
        },
        "id": "ws_5u7vRrg0o",
        "outputId": "8c4fbc98-1977-4305-c258-bb94db1aadfd"
      },
      "outputs": [],
      "source": [
        "import os\n",
        "start_token = '\\uE002'  # Using Private Use Area character\n",
        "end_token = '\\uE003'    # Using Private Use Area character\n",
        "def preprocess() -> list[str]:\n",
        "  '''\n",
        "  Return a list of characters, representing the shared vocabulary of all languages\n",
        "  '''\n",
        "  data_folder_path = \"./data\"\n",
        "\n",
        "  unique_characters = set()\n",
        "  # Iterate through all files in the data folder\n",
        "  for filename in os.listdir(data_folder_path):\n",
        "\n",
        "      # Check if the file is a JSON file\n",
        "      if filename.endswith(\".json\"):\n",
        "          # print(filename)\n",
        "          # Get the full path to the file\n",
        "          file_path = os.path.join(data_folder_path, filename)\n",
        "\n",
        "          # Open the file and read its contents\n",
        "          with open(file_path, \"r\") as f:\n",
        "              json_data = json.loads(f.read())\n",
        "            #   print(json_data)\n",
        "              for key, val in json_data[\"tweet_text\"].items():\n",
        "                #   print(key, val)\n",
        "                  for c in val:\n",
        "                    unique_characters.add(c) # Update the hash with the token in utf-8 encoding\n",
        "\n",
        "                      \n",
        "\n",
        "          # Process the JSON data as needed\n",
        "          # (e.g., parse it into a Python dictionary)\n",
        "          # ...\n",
        "  # add the 2 special chars to the set:               \n",
        "  unique_characters.add(start_token)\n",
        "  unique_characters.add(end_token)\n",
        "  return list(unique_characters)\n",
        "\n",
        "\n"
      ]
    },
    {
      "cell_type": "code",
      "execution_count": 96,
      "metadata": {},
      "outputs": [
        {
          "name": "stdout",
          "output_type": "stream",
          "text": [
            "Vocabulary length: 1804\n"
          ]
        }
      ],
      "source": [
        "vocabulary = preprocess()\n",
        "vocabulary_length = len(vocabulary)\n",
        "print(f\"Vocabulary length: {vocabulary_length}\")"
      ]
    },
    {
      "cell_type": "markdown",
      "metadata": {
        "id": "tpjtwHW08jyH"
      },
      "source": [
        "## Part 2\n",
        "Implement the function *lm* that generates a language model from a textual corpus. The function should return a dictionary (representing a model) where the keys are all the relevant *n*-1 sequences, and the values are dictionaries with the *n*_th tokens and their corresponding probabilities to occur. For example, for a trigram model (tokens are characters), it should look something like:\n",
        "\n",
        "{ \"ab\":{\"c\":0.5, \"b\":0.25, \"d\":0.25}, \"ca\":{\"a\":0.2, \"b\":0.7, \"d\":0.1} }\n",
        "\n",
        "which means for example that after the sequence \"ab\", there is a 0.5 chance that \"c\" will appear, 0.25 for \"b\" to appear and 0.25 for \"d\" to appear.\n",
        "\n",
        "Note - You should think how to add the add_one smoothing information to the dictionary and implement it."
      ]
    },
    {
      "cell_type": "code",
      "execution_count": 97,
      "metadata": {
        "id": "uySEXdEUrkq_"
      },
      "outputs": [],
      "source": [
        "\n",
        "\n",
        "def lm(lang: str, n: int, smoothed=True) -> dict[str, dict[str, float]]:\n",
        "    '''\n",
        "    Return a language model for the given lang and n_gram (n)\n",
        "    :param lang: the language of the model\n",
        "    :param n: the n_gram value\n",
        "    :return: a dictionary where the keys are n_grams and the values are dictionaries\n",
        "              with the n_th tokens and their corresponding probabilities to occur\n",
        "    '''\n",
        "    model = {}\n",
        "    data_folder_path = \"./data\"\n",
        "    filename = f\"{lang}.json\"\n",
        "    file_path = os.path.join(data_folder_path, filename)\n",
        "    \n",
        "    # Open the file and read its contents\n",
        "    with open(file_path, \"r\") as f:\n",
        "        json_data = json.loads(f.read())\n",
        "        # Iterate through each sentence in the corpus\n",
        "        for key, sentence in json_data[\"tweet_text\"].items():\n",
        "            # Iterate through each n-gram in the sentence\n",
        "            # add n-1 start tokens and n-1 end toklens to the sentence:\n",
        "            sentence = start_token * (n-1) + sentence + end_token\n",
        "          \n",
        "            for i in range(len(sentence) - n + 1):\n",
        "                ngram = sentence[i:i+n-1]\n",
        "                next_token = sentence[i+n-1]\n",
        "\n",
        "                # Check if the n-gram is already in the model\n",
        "                if ngram not in model:\n",
        "                    model[ngram] = {}\n",
        "                # Check if the next token is already in the n-gram's dictionary\n",
        "                if next_token not in model[ngram]:\n",
        "                    if smoothed:\n",
        "                        model[ngram][next_token] = 1\n",
        "                    else:\n",
        "                        model[ngram][next_token] = 0\n",
        "                model[ngram][next_token] += 1\n",
        "                    \n",
        "    \n",
        "    # Calculate the probabilities for each n-gram\n",
        "    for ngram in model:\n",
        "        if smoothed:\n",
        "            # add all unseen chars from the vocabulary to the model, with a value of 1 (smoothing):\n",
        "            for char in vocabulary:\n",
        "                if char not in model[ngram]:\n",
        "                    model[ngram][char] = 1\n",
        "        \n",
        "\n",
        "        total_count = sum(model[ngram].values())\n",
        "        for token in model[ngram]:\n",
        "            model[ngram][token] /= total_count\n",
        "    \n",
        "    return model\n"
      ]
    },
    {
      "cell_type": "code",
      "execution_count": 98,
      "metadata": {},
      "outputs": [
        {
          "name": "stdout",
          "output_type": "stream",
          "text": [
            "unsmoothed len res: 747\n",
            "smoothed len res: 747\n"
          ]
        }
      ],
      "source": [
        "res = lm(\"en\",2)\n",
        "print(f'unsmoothed len res: {len(res)}')\n",
        "\n",
        "res = lm(\"en\",2, smoothed=True)\n",
        "print(f'smoothed len res: {len(res)}')"
      ]
    },
    {
      "cell_type": "markdown",
      "metadata": {
        "id": "xwZnk7Ke8rW5"
      },
      "source": [
        "## Part 3\n",
        "Implement the function *eval* that returns the perplexity of a model (dictionary) running over the data file of the given target language."
      ]
    },
    {
      "cell_type": "code",
      "execution_count": 99,
      "metadata": {
        "id": "ef-EglxXrmk2"
      },
      "outputs": [],
      "source": [
        "import math\n",
        "def eval(model: dict, target_lang: str) -> float:\n",
        "  '''\n",
        "  Return the perplexity value calculated over applying the model on the text file\n",
        "  of the target_lang language.\n",
        "  :param model: the language model\n",
        "  :param target_lang: the target language\n",
        "  :return: the perplexity value\n",
        "  '''\n",
        "  n = len(list(model.keys())[0]) + 1\n",
        "\n",
        "  data_folder_path = \"./data\"\n",
        "  filename = f\"{target_lang}.json\"\n",
        "  file_path = os.path.join(data_folder_path, filename)\n",
        "  perplexity = 0\n",
        "  chars_counter = 0\n",
        "  # Open the file and read its contents\n",
        "  with open(file_path, \"r\") as f:\n",
        "      json_data = json.loads(f.read())\n",
        "      # Iterate through each sentence in the corpus\n",
        "      perplexities = []\n",
        "      for key, sentence in json_data[\"tweet_text\"].items():\n",
        "        sentence = start_token * (n-1) + sentence + end_token\n",
        "        sentence_enthropy = 0\n",
        "        for i in range(len(sentence) - n + 1):\n",
        "            ngram = sentence[i:i+n-1]\n",
        "            next_token = sentence[i+n-1]\n",
        "            chars_counter += 1\n",
        "            if ngram in model:\n",
        "                if next_token in model[ngram]:\n",
        "                    sentence_enthropy +=  ( -1 * math.log2(model[ngram][next_token]))\n",
        "                else:\n",
        "                    # throw an exception if the token is not in the model's keys\n",
        "                    raise Exception(f\"{next_token} NOT IN MODEL for {ngram}\")\n",
        "                    # sentence_enthropy +=  ( -1 * math.log2(model[ngram]['unknown']))\n",
        "            else:\n",
        "                #raise an exception if the ngram is not in the model's keys\n",
        "                # raise Exception(\"NOT IN MODEL\")\n",
        "                sentence_enthropy += -1 * math.log2(1/vocabulary_length) # # todo  review\n",
        "              \n",
        "            perplexities.append(2 ** (sentence_enthropy/(len(sentence) - n + 1)))\n",
        "            # perplexities.append( (sentence_enthropy/(len(sentence) - n + 1)))\n",
        "#   return 2 ** (perplexity / chars_counter)\n",
        "# print and return the average perplexiry of all sentences:\n",
        "  res =  sum(perplexities) / len(perplexities)\n",
        "  # res =  2 ** (sum(perplexities) / len(perplexities))\n",
        "  \n",
        "#   print(f'perplexity: {res}')\n",
        "  return res\n",
        "  \n"
      ]
    },
    {
      "cell_type": "code",
      "execution_count": 100,
      "metadata": {},
      "outputs": [],
      "source": [
        "# for n in range(1, 5):\n",
        "#     model = lm(\"en\", n, smoothed=True)\n",
        "#     perplexity =  eval(model, \"fr\")\n",
        "#     print(f\"{n} : Perplexity: {perplexity}\")"
      ]
    },
    {
      "cell_type": "markdown",
      "metadata": {
        "id": "9ZYVc7hB84LP"
      },
      "source": [
        "## Part 4\n",
        "Implement the *match* function that calls *eval* using a specific value of *n* for every possible language pair among the languages we have data for. You should call *eval* for every language pair four times, with each call assign a different value for *n* (1-4). Each language pair is composed of the source language and the target language. Before you make the call, you need to call the *lm* function to create the language model for the source language. Then you can call *eval* with the language model and the target language. The function should return a pandas DataFrame with the following four columns: *source_lang*, *target_lang*, *n*, *perplexity*. The values for the first two columns are the two-letter language codes. The value for *n* is the *n* you use for generating the specific perplexity values which you should store in the forth column."
      ]
    },
    {
      "cell_type": "code",
      "execution_count": 101,
      "metadata": {
        "id": "16ew9aZWroPC"
      },
      "outputs": [],
      "source": [
        "def match() -> pd.DataFrame:\n",
        "  '''\n",
        "  Return a DataFrame containing one line per every language pair and n_gram.\n",
        "  Each line will contain the perplexity calculated when applying the language model\n",
        "  of the source language on the text of the target language.\n",
        "  :return: a DataFrame containing the perplexity values\n",
        "  '''\n",
        "  perplexity_values = []\n",
        "  for n in range(1, 5): # TODO - CHANGE BACK TO 5\n",
        "  # for n in range(1, 4):\n",
        "    for model_lang in [\"en\", \"es\", \"fr\", \"in\", \"it\", \"nl\", \"pt\", \"tl\"]:\n",
        "      model = lm(model_lang, n, True)\n",
        "\n",
        "      for lang in [\"en\", \"es\", \"fr\", \"in\", \"it\", \"nl\", \"pt\", \"tl\"]:\n",
        "        perplexity = eval(model, lang)\n",
        "        perplexity_values.append({\"source\": model_lang, \"target\": lang, \"n\": n, \"perplexity\": perplexity})\n",
        "        print(f'source: {model_lang}, target: {lang}, n: {n}, perplexity: {perplexity}')\n",
        "  return pd.DataFrame(perplexity_values)\n",
        "\n",
        "# df = match()"
      ]
    },
    {
      "cell_type": "code",
      "execution_count": 102,
      "metadata": {},
      "outputs": [],
      "source": [
        "# print(df[3]['en'])"
      ]
    },
    {
      "cell_type": "markdown",
      "metadata": {},
      "source": []
    },
    {
      "cell_type": "markdown",
      "metadata": {
        "id": "pAQoR0dH9C3T"
      },
      "source": [
        "## Part 5\n",
        "Implement the *generate* function which takes a language code, *n*, the prompt (the starting text), the number of tokens to generate, and *r*, which is the random seed for any randomized action you plan to take in your implementation. The function should start generating tokens, one by one, using the language model of the given source language and *n*. The prompt should be used as a starting point for aligning on the probabilities to be used for generating the next token.\n",
        "\n",
        "Note - The generation of the next token should be from the LM's distribution."
      ]
    },
    {
      "cell_type": "code",
      "execution_count": null,
      "metadata": {},
      "outputs": [],
      "source": []
    },
    {
      "cell_type": "code",
      "execution_count": null,
      "metadata": {},
      "outputs": [],
      "source": []
    },
    {
      "cell_type": "code",
      "execution_count": 120,
      "metadata": {
        "id": "CpCm24-RrpuA"
      },
      "outputs": [
        {
          "name": "stdout",
          "output_type": "stream",
          "text": [
            "I am （gpᴰehᵃns👲lI▝gt💧.l🌟o\n"
          ]
        }
      ],
      "source": [
        "import random\n",
        "models_1 = {}\n",
        "# for each language create a model with n=1, no smoothing:\n",
        "for lang in [\"en\", \"es\", \"fr\", \"in\", \"it\", \"nl\", \"pt\", \"tl\"]:\n",
        "  models_1[lang] = lm(lang, 1, False)\n",
        "\n",
        "def get_next_token(model, ngram, lang):\n",
        "  '''\n",
        "  Return the next token based on the given model, ngram, and random value from 0 to 1.\n",
        "  '''\n",
        "  # iterate over the model[ngram] and sum the probabilities until the sum is greater than rand:\n",
        "  sum = 0\n",
        "  # get a random number between 0 to 1:\n",
        "  rand = random.random()\n",
        "  try:\n",
        "    for token, prob in model[ngram].items():\n",
        "      sum += prob\n",
        "      if sum > rand:\n",
        "        return token\n",
        "  except:\n",
        "    # reutrn the most common token in language if ngram is not in the model:\n",
        "    return get_next_token(models_1[lang], '', lang)\n",
        "\n",
        "\n",
        "  \n",
        "  # for token, prob in model[ngram].items():\n",
        "  #   sum += prob\n",
        "  #   if sum > rand:\n",
        "  #     print(f'ngram {ngram}, rand {rand}, sum {sum}, token {token}, prob {prob}')\n",
        "  #     return token\n",
        "\n",
        "def generate(lang: str, n: int, prompt: str, number_of_tokens: int, r: int) -> str:\n",
        "  '''\n",
        "  Generate text in the given language using the given parameters.\n",
        "  :param lang: the language of the model\n",
        "  :param n: the n_gram value\n",
        "  :param prompt: the prompt to start the generation\n",
        "  :param number_of_tokens: the number of tokens to generate\n",
        "  :param r: the random seed to use\n",
        "  '''\n",
        "  # initialize random seed with r\n",
        "  random.seed(r)\n",
        "  model = lm(lang, n)\n",
        "  generated_text = prompt\n",
        "  for i in range(number_of_tokens):\n",
        "    ngram = generated_text[-n+1:] # TODO handle the case of shorter prompts\n",
        "    # get next token based on the model and the dustribution in model[ngram] . use the random seed\n",
        "    next_token = get_next_token(model, ngram, lang)\n",
        "    # max(model[ngram], key=model[ngram].get)\n",
        "    generated_text += next_token\n",
        "  return generated_text\n",
        "\n",
        "print(generate(\"en\", 3, \"I am \", 20, 5))"
      ]
    },
    {
      "cell_type": "markdown",
      "metadata": {
        "id": "eUWX8Ugu9INH"
      },
      "source": [
        "## Part 6\n",
        "Play with your generate function, try to generate different texts in different language and various values of *n*. No need to submit anything of that."
      ]
    },
    {
      "cell_type": "code",
      "execution_count": 104,
      "metadata": {
        "id": "0ykbMBzG9LWn"
      },
      "outputs": [],
      "source": [
        "# print(generate(\"fr\", 2, \"je suis \", 20, 5))\n",
        "# print(generate(\"fr\", 2, \"je suis \", 20, 5))\n",
        "# print(generate(\"fr\", 2, \"je suis\", 20, 5))\n",
        "\n",
        "# print(generate(\"en\", 2, \"I am \", 20, 5))\n",
        "# print(generate(\"en\", 2, \"I am\", 20, 5))"
      ]
    },
    {
      "cell_type": "markdown",
      "metadata": {
        "id": "q2jNlDISr9aL"
      },
      "source": [
        "# Testing"
      ]
    },
    {
      "cell_type": "markdown",
      "metadata": {
        "id": "uv48OCT_sIYW"
      },
      "source": [
        "Copy the content of the **tests.py** file from the repo and paste below. This will create the results.json file and download it to your machine."
      ]
    },
    {
      "cell_type": "code",
      "execution_count": null,
      "metadata": {},
      "outputs": [],
      "source": []
    },
    {
      "cell_type": "code",
      "execution_count": 105,
      "metadata": {
        "colab": {
          "base_uri": "https://localhost:8080/",
          "height": 17
        },
        "id": "JZTlc2ieruqq",
        "outputId": "48177a3b-7f5e-42fd-8ebd-e2f5a6eddf19"
      },
      "outputs": [
        {
          "name": "stdout",
          "output_type": "stream",
          "text": [
            "source: en, target: en, n: 1, perplexity: 10.379771316004877\n",
            "source: en, target: es, n: 1, perplexity: 11.73145556171549\n",
            "source: en, target: fr, n: 1, perplexity: 11.15580476665034\n",
            "source: en, target: in, n: 1, perplexity: 14.257921313639697\n",
            "source: en, target: it, n: 1, perplexity: 10.78949917502809\n",
            "source: en, target: nl, n: 1, perplexity: 12.419028033220602\n",
            "source: en, target: pt, n: 1, perplexity: 12.296024540901128\n",
            "source: en, target: tl, n: 1, perplexity: 13.043779385721933\n",
            "source: es, target: en, n: 1, perplexity: 11.907227089082587\n",
            "source: es, target: es, n: 1, perplexity: 9.992726227500581\n",
            "source: es, target: fr, n: 1, perplexity: 10.782284239783385\n",
            "source: es, target: in, n: 1, perplexity: 14.419022239565868\n",
            "source: es, target: it, n: 1, perplexity: 10.762838452455565\n",
            "source: es, target: nl, n: 1, perplexity: 14.205356329587623\n",
            "source: es, target: pt, n: 1, perplexity: 11.870708451710053\n",
            "source: es, target: tl, n: 1, perplexity: 14.396720799140892\n",
            "source: fr, target: en, n: 1, perplexity: 11.891787423532646\n",
            "source: fr, target: es, n: 1, perplexity: 11.673218099061646\n",
            "source: fr, target: fr, n: 1, perplexity: 10.050566430284881\n",
            "source: fr, target: in, n: 1, perplexity: 14.697787686862437\n",
            "source: fr, target: it, n: 1, perplexity: 10.781113530366355\n",
            "source: fr, target: nl, n: 1, perplexity: 14.649337092787826\n",
            "source: fr, target: pt, n: 1, perplexity: 12.206161292130565\n",
            "source: fr, target: tl, n: 1, perplexity: 14.964465320009696\n",
            "source: in, target: en, n: 1, perplexity: 11.808952970134138\n",
            "source: in, target: es, n: 1, perplexity: 11.83282935250946\n",
            "source: in, target: fr, n: 1, perplexity: 11.99852894535591\n",
            "source: in, target: in, n: 1, perplexity: 11.150795961434369\n",
            "source: in, target: it, n: 1, perplexity: 11.405007033091948\n",
            "source: in, target: nl, n: 1, perplexity: 13.42363631945882\n",
            "source: in, target: pt, n: 1, perplexity: 12.814991886823142\n",
            "source: in, target: tl, n: 1, perplexity: 12.624078780565057\n",
            "source: it, target: en, n: 1, perplexity: 11.872657295099986\n",
            "source: it, target: es, n: 1, perplexity: 11.08564074050491\n",
            "source: it, target: fr, n: 1, perplexity: 10.663070521947454\n",
            "source: it, target: in, n: 1, perplexity: 14.27667348380569\n",
            "source: it, target: it, n: 1, perplexity: 10.1574280850765\n",
            "source: it, target: nl, n: 1, perplexity: 13.127696199072478\n",
            "source: it, target: pt, n: 1, perplexity: 12.04392578851323\n",
            "source: it, target: tl, n: 1, perplexity: 13.863683443274939\n",
            "source: nl, target: en, n: 1, perplexity: 11.914101805830514\n",
            "source: nl, target: es, n: 1, perplexity: 11.743665785482552\n",
            "source: nl, target: fr, n: 1, perplexity: 11.036908927058274\n",
            "source: nl, target: in, n: 1, perplexity: 14.296362038340467\n",
            "source: nl, target: it, n: 1, perplexity: 10.99158414064151\n",
            "source: nl, target: nl, n: 1, perplexity: 10.542986589015449\n",
            "source: nl, target: pt, n: 1, perplexity: 12.317034592681553\n",
            "source: nl, target: tl, n: 1, perplexity: 13.450963507543689\n",
            "source: pt, target: en, n: 1, perplexity: 12.107700868391044\n",
            "source: pt, target: es, n: 1, perplexity: 10.718928541220327\n",
            "source: pt, target: fr, n: 1, perplexity: 10.718465712185514\n",
            "source: pt, target: in, n: 1, perplexity: 14.043712187141532\n",
            "source: pt, target: it, n: 1, perplexity: 10.843344718993624\n",
            "source: pt, target: nl, n: 1, perplexity: 14.07915965615622\n",
            "source: pt, target: pt, n: 1, perplexity: 10.442653799232286\n",
            "source: pt, target: tl, n: 1, perplexity: 13.41311961255512\n",
            "source: tl, target: en, n: 1, perplexity: 11.717634897507235\n",
            "source: tl, target: es, n: 1, perplexity: 11.87911071583112\n",
            "source: tl, target: fr, n: 1, perplexity: 12.01216197769191\n",
            "source: tl, target: in, n: 1, perplexity: 12.961923366350693\n",
            "source: tl, target: it, n: 1, perplexity: 11.114019285083605\n",
            "source: tl, target: nl, n: 1, perplexity: 11.726460013855462\n",
            "source: tl, target: pt, n: 1, perplexity: 12.549186008221325\n",
            "source: tl, target: tl, n: 1, perplexity: 11.421016400447016\n",
            "source: en, target: en, n: 2, perplexity: 6.5626065964756375\n",
            "source: en, target: es, n: 2, perplexity: 8.187506693989713\n",
            "source: en, target: fr, n: 2, perplexity: 8.573651795899632\n",
            "source: en, target: in, n: 2, perplexity: 8.695381423232568\n",
            "source: en, target: it, n: 2, perplexity: 8.17619230218497\n",
            "source: en, target: nl, n: 2, perplexity: 8.192715771016463\n",
            "source: en, target: pt, n: 2, perplexity: 9.1463771624019\n",
            "source: en, target: tl, n: 2, perplexity: 8.520082138859802\n",
            "source: es, target: en, n: 2, perplexity: 9.165435035634742\n",
            "source: es, target: es, n: 2, perplexity: 6.064659369596387\n",
            "source: es, target: fr, n: 2, perplexity: 8.455031994774329\n",
            "source: es, target: in, n: 2, perplexity: 9.768238702251546\n",
            "source: es, target: it, n: 2, perplexity: 7.512300192911004\n",
            "source: es, target: nl, n: 2, perplexity: 9.4858342074378\n",
            "source: es, target: pt, n: 2, perplexity: 7.75016551074883\n",
            "source: es, target: tl, n: 2, perplexity: 9.660108967404343\n",
            "source: fr, target: en, n: 2, perplexity: 8.345873929310164\n",
            "source: fr, target: es, n: 2, perplexity: 7.66392389474551\n",
            "source: fr, target: fr, n: 2, perplexity: 6.303665803762846\n",
            "source: fr, target: in, n: 2, perplexity: 9.445878439453889\n",
            "source: fr, target: it, n: 2, perplexity: 7.900324478125622\n",
            "source: fr, target: nl, n: 2, perplexity: 8.708196455116026\n",
            "source: fr, target: pt, n: 2, perplexity: 8.445071874563522\n",
            "source: fr, target: tl, n: 2, perplexity: 9.767552288363706\n",
            "source: in, target: en, n: 2, perplexity: 8.595439325344445\n",
            "source: in, target: es, n: 2, perplexity: 8.803449425531584\n",
            "source: in, target: fr, n: 2, perplexity: 9.769652698949423\n",
            "source: in, target: in, n: 2, perplexity: 6.764939325664322\n",
            "source: in, target: it, n: 2, perplexity: 8.531624785225594\n",
            "source: in, target: nl, n: 2, perplexity: 8.707221247975392\n",
            "source: in, target: pt, n: 2, perplexity: 9.742865235665857\n",
            "source: in, target: tl, n: 2, perplexity: 8.04979217894975\n",
            "source: it, target: en, n: 2, perplexity: 9.026997405777509\n",
            "source: it, target: es, n: 2, perplexity: 7.388886250959488\n",
            "source: it, target: fr, n: 2, perplexity: 8.522510639589585\n",
            "source: it, target: in, n: 2, perplexity: 9.593522432210124\n",
            "source: it, target: it, n: 2, perplexity: 6.265366856788267\n",
            "source: it, target: nl, n: 2, perplexity: 9.464190870280548\n",
            "source: it, target: pt, n: 2, perplexity: 8.14559162212287\n",
            "source: it, target: tl, n: 2, perplexity: 9.389396307046637\n",
            "source: nl, target: en, n: 2, perplexity: 8.164116810473104\n",
            "source: nl, target: es, n: 2, perplexity: 8.959495570876271\n",
            "source: nl, target: fr, n: 2, perplexity: 8.941218425810005\n",
            "source: nl, target: in, n: 2, perplexity: 8.948414636965108\n",
            "source: nl, target: it, n: 2, perplexity: 8.934357108167156\n",
            "source: nl, target: nl, n: 2, perplexity: 6.54044344079681\n",
            "source: nl, target: pt, n: 2, perplexity: 9.742363032913739\n",
            "source: nl, target: tl, n: 2, perplexity: 9.190706764602826\n",
            "source: pt, target: en, n: 2, perplexity: 9.432798204369698\n",
            "source: pt, target: es, n: 2, perplexity: 7.183033345610019\n",
            "source: pt, target: fr, n: 2, perplexity: 8.574976533275347\n",
            "source: pt, target: in, n: 2, perplexity: 10.118753157872032\n",
            "source: pt, target: it, n: 2, perplexity: 7.818153289552008\n",
            "source: pt, target: nl, n: 2, perplexity: 9.819877035528556\n",
            "source: pt, target: pt, n: 2, perplexity: 6.374302939831565\n",
            "source: pt, target: tl, n: 2, perplexity: 9.970391245599734\n",
            "source: tl, target: en, n: 2, perplexity: 8.06595108411482\n",
            "source: tl, target: es, n: 2, perplexity: 8.331157084985\n",
            "source: tl, target: fr, n: 2, perplexity: 9.620804080745618\n",
            "source: tl, target: in, n: 2, perplexity: 7.841628039309456\n",
            "source: tl, target: it, n: 2, perplexity: 8.195909595271322\n",
            "source: tl, target: nl, n: 2, perplexity: 8.905174714157829\n",
            "source: tl, target: pt, n: 2, perplexity: 9.286855755900357\n",
            "source: tl, target: tl, n: 2, perplexity: 6.782426694735727\n",
            "source: en, target: en, n: 3, perplexity: 8.187055502554314\n",
            "source: en, target: es, n: 3, perplexity: 14.637709182766754\n",
            "source: en, target: fr, n: 3, perplexity: 14.83466617971143\n",
            "source: en, target: in, n: 3, perplexity: 18.981993821686032\n",
            "source: en, target: it, n: 3, perplexity: 15.383895561358214\n",
            "source: en, target: nl, n: 3, perplexity: 15.655533080853013\n",
            "source: en, target: pt, n: 3, perplexity: 16.84540745262546\n",
            "source: en, target: tl, n: 3, perplexity: 17.55180546234066\n",
            "source: es, target: en, n: 3, perplexity: 17.57224792172281\n",
            "source: es, target: es, n: 3, perplexity: 7.692181453420589\n",
            "source: es, target: fr, n: 3, perplexity: 15.282583472070199\n",
            "source: es, target: in, n: 3, perplexity: 21.67666897510525\n",
            "source: es, target: it, n: 3, perplexity: 13.18461334620339\n",
            "source: es, target: nl, n: 3, perplexity: 20.20550224466897\n",
            "source: es, target: pt, n: 3, perplexity: 12.818256045122359\n",
            "source: es, target: tl, n: 3, perplexity: 20.968727087805025\n",
            "source: fr, target: en, n: 3, perplexity: 15.00572439388855\n",
            "source: fr, target: es, n: 3, perplexity: 13.014727819751213\n",
            "source: fr, target: fr, n: 3, perplexity: 7.81045838707652\n",
            "source: fr, target: in, n: 3, perplexity: 20.72178907847226\n",
            "source: fr, target: it, n: 3, perplexity: 14.477489468892097\n",
            "source: fr, target: nl, n: 3, perplexity: 17.48869683373612\n",
            "source: fr, target: pt, n: 3, perplexity: 15.450956345744677\n",
            "source: fr, target: tl, n: 3, perplexity: 21.074332512613932\n",
            "source: in, target: en, n: 3, perplexity: 15.867435939533198\n",
            "source: in, target: es, n: 3, perplexity: 16.738098086676274\n",
            "source: in, target: fr, n: 3, perplexity: 18.763779760666914\n",
            "source: in, target: in, n: 3, perplexity: 9.62228659404775\n",
            "source: in, target: it, n: 3, perplexity: 17.17999925738579\n",
            "source: in, target: nl, n: 3, perplexity: 17.81745273320095\n",
            "source: in, target: pt, n: 3, perplexity: 18.746456432266097\n",
            "source: in, target: tl, n: 3, perplexity: 15.358794842346537\n",
            "source: it, target: en, n: 3, perplexity: 17.1068856408245\n",
            "source: it, target: es, n: 3, perplexity: 12.472901930410666\n",
            "source: it, target: fr, n: 3, perplexity: 15.42445723348238\n",
            "source: it, target: in, n: 3, perplexity: 22.145152436902478\n",
            "source: it, target: it, n: 3, perplexity: 8.078983171902587\n",
            "source: it, target: nl, n: 3, perplexity: 20.821385237903556\n",
            "source: it, target: pt, n: 3, perplexity: 14.006539465528496\n",
            "source: it, target: tl, n: 3, perplexity: 19.780310810316273\n",
            "source: nl, target: en, n: 3, perplexity: 14.211390969232175\n",
            "source: nl, target: es, n: 3, perplexity: 17.148080117361975\n",
            "source: nl, target: fr, n: 3, perplexity: 16.36688296309563\n",
            "source: nl, target: in, n: 3, perplexity: 19.383061612149625\n",
            "source: nl, target: it, n: 3, perplexity: 18.201262247058864\n",
            "source: nl, target: nl, n: 3, perplexity: 8.604762959777423\n",
            "source: nl, target: pt, n: 3, perplexity: 19.251564062117495\n",
            "source: nl, target: tl, n: 3, perplexity: 19.15742837695161\n",
            "source: pt, target: en, n: 3, perplexity: 19.285348773974885\n",
            "source: pt, target: es, n: 3, perplexity: 12.40559182405576\n",
            "source: pt, target: fr, n: 3, perplexity: 17.016763811712433\n",
            "source: pt, target: in, n: 3, perplexity: 24.103337666062878\n",
            "source: pt, target: it, n: 3, perplexity: 14.966348611501825\n",
            "source: pt, target: nl, n: 3, perplexity: 22.918825243519187\n",
            "source: pt, target: pt, n: 3, perplexity: 8.142258518506903\n",
            "source: pt, target: tl, n: 3, perplexity: 22.058547460883858\n",
            "source: tl, target: en, n: 3, perplexity: 14.012079996956357\n",
            "source: tl, target: es, n: 3, perplexity: 15.765503090015212\n",
            "source: tl, target: fr, n: 3, perplexity: 18.535103760438286\n",
            "source: tl, target: in, n: 3, perplexity: 15.500344309092364\n",
            "source: tl, target: it, n: 3, perplexity: 16.08306533829161\n",
            "source: tl, target: nl, n: 3, perplexity: 18.729295788178757\n",
            "source: tl, target: pt, n: 3, perplexity: 17.827886201184963\n",
            "source: tl, target: tl, n: 3, perplexity: 9.311342039016152\n",
            "source: en, target: en, n: 4, perplexity: 16.161762417210653\n",
            "source: en, target: es, n: 4, perplexity: 50.50727192382311\n",
            "source: en, target: fr, n: 4, perplexity: 45.39482753370008\n",
            "source: en, target: in, n: 4, perplexity: 68.7442049588508\n",
            "source: en, target: it, n: 4, perplexity: 52.19593797868589\n",
            "source: en, target: nl, n: 4, perplexity: 49.43543165116718\n",
            "source: en, target: pt, n: 4, perplexity: 56.638702799225065\n",
            "source: en, target: tl, n: 4, perplexity: 55.810391103991726\n",
            "source: es, target: en, n: 4, perplexity: 54.50078519889957\n",
            "source: es, target: es, n: 4, perplexity: 15.010802012197043\n",
            "source: es, target: fr, n: 4, perplexity: 44.46482623466611\n",
            "source: es, target: in, n: 4, perplexity: 71.67839653158997\n",
            "source: es, target: it, n: 4, perplexity: 38.977439103258455\n",
            "source: es, target: nl, n: 4, perplexity: 62.089063234190085\n",
            "source: es, target: pt, n: 4, perplexity: 34.085237401746134\n",
            "source: es, target: tl, n: 4, perplexity: 65.11283533841166\n",
            "source: fr, target: en, n: 4, perplexity: 45.68022047060508\n",
            "source: fr, target: es, n: 4, perplexity: 40.13010635938702\n",
            "source: fr, target: fr, n: 4, perplexity: 14.868334091795885\n",
            "source: fr, target: in, n: 4, perplexity: 72.48501165152736\n",
            "source: fr, target: it, n: 4, perplexity: 46.514317405650026\n",
            "source: fr, target: nl, n: 4, perplexity: 54.742431653714306\n",
            "source: fr, target: pt, n: 4, perplexity: 48.31002110670073\n",
            "source: fr, target: tl, n: 4, perplexity: 67.68995557137222\n",
            "source: in, target: en, n: 4, perplexity: 49.13260824016552\n",
            "source: in, target: es, n: 4, perplexity: 58.70727802651453\n",
            "source: in, target: fr, n: 4, perplexity: 61.61152760435473\n",
            "source: in, target: in, n: 4, perplexity: 20.61079831407144\n",
            "source: in, target: it, n: 4, perplexity: 58.8265909152598\n",
            "source: in, target: nl, n: 4, perplexity: 60.395625612349086\n",
            "source: in, target: pt, n: 4, perplexity: 63.172137034736906\n",
            "source: in, target: tl, n: 4, perplexity: 45.77678200339617\n",
            "source: it, target: en, n: 4, perplexity: 52.26004278529456\n",
            "source: it, target: es, n: 4, perplexity: 36.09051322701342\n",
            "source: it, target: fr, n: 4, perplexity: 47.022569119563535\n",
            "source: it, target: in, n: 4, perplexity: 72.35898925702192\n",
            "source: it, target: it, n: 4, perplexity: 16.10322852870705\n",
            "source: it, target: nl, n: 4, perplexity: 65.49025823124201\n",
            "source: it, target: pt, n: 4, perplexity: 40.0613757775061\n",
            "source: it, target: tl, n: 4, perplexity: 61.23818802041481\n",
            "source: nl, target: en, n: 4, perplexity: 42.26610983392557\n",
            "source: nl, target: es, n: 4, perplexity: 56.728493500897905\n",
            "source: nl, target: fr, n: 4, perplexity: 49.3170887154934\n",
            "source: nl, target: in, n: 4, perplexity: 68.14502198452995\n",
            "source: nl, target: it, n: 4, perplexity: 61.19715783891659\n",
            "source: nl, target: nl, n: 4, perplexity: 17.05909395388867\n",
            "source: nl, target: pt, n: 4, perplexity: 64.86540132647153\n",
            "source: nl, target: tl, n: 4, perplexity: 62.77123341079045\n",
            "source: pt, target: en, n: 4, perplexity: 60.540442489676494\n",
            "source: pt, target: es, n: 4, perplexity: 34.655876705307186\n",
            "source: pt, target: fr, n: 4, perplexity: 53.34485578945661\n",
            "source: pt, target: in, n: 4, perplexity: 80.34639604727793\n",
            "source: pt, target: it, n: 4, perplexity: 46.97519026589619\n",
            "source: pt, target: nl, n: 4, perplexity: 74.74358622123249\n",
            "source: pt, target: pt, n: 4, perplexity: 15.90168526691737\n",
            "source: pt, target: tl, n: 4, perplexity: 68.87418457261079\n",
            "source: tl, target: en, n: 4, perplexity: 40.322568665033025\n",
            "source: tl, target: es, n: 4, perplexity: 52.83438044183414\n",
            "source: tl, target: fr, n: 4, perplexity: 60.34262794443274\n",
            "source: tl, target: in, n: 4, perplexity: 50.62992874230996\n",
            "source: tl, target: it, n: 4, perplexity: 54.19381282719195\n",
            "source: tl, target: nl, n: 4, perplexity: 63.17149171307545\n",
            "source: tl, target: pt, n: 4, perplexity: 57.99540143230542\n",
            "source: tl, target: tl, n: 4, perplexity: 19.225121989103034\n"
          ]
        },
        {
          "ename": "NameError",
          "evalue": "name 'files' is not defined",
          "output_type": "error",
          "traceback": [
            "\u001b[1;31m---------------------------------------------------------------------------\u001b[0m",
            "\u001b[1;31mNameError\u001b[0m                                 Traceback (most recent call last)",
            "Cell \u001b[1;32mIn[105], line 59\u001b[0m\n\u001b[0;32m     56\u001b[0m     json\u001b[38;5;241m.\u001b[39mdump(res, f, indent\u001b[38;5;241m=\u001b[39m\u001b[38;5;241m2\u001b[39m)\n\u001b[0;32m     58\u001b[0m \u001b[38;5;66;03m# Download the results.json file\u001b[39;00m\n\u001b[1;32m---> 59\u001b[0m \u001b[43mfiles\u001b[49m\u001b[38;5;241m.\u001b[39mdownload(\u001b[38;5;124m'\u001b[39m\u001b[38;5;124mresults.json\u001b[39m\u001b[38;5;124m'\u001b[39m)\n\u001b[0;32m     62\u001b[0m \u001b[38;5;66;03m####################\u001b[39;00m\n",
            "\u001b[1;31mNameError\u001b[0m: name 'files' is not defined"
          ]
        }
      ],
      "source": [
        "####################\n",
        "# PLACE TESTS HERE #\n",
        "# Create tests\n",
        "def test_preprocess():\n",
        "    return {\n",
        "        'vocab_length': len(preprocess()),\n",
        "    }\n",
        "\n",
        "def test_lm():\n",
        "    return {\n",
        "        'english_2_gram_length': len(lm('en', 2)),\n",
        "        'english_3_gram_length': len(lm('en', 3)),\n",
        "        'french_3_gram_length': len(lm('fr', 3)),\n",
        "        'spanish_3_gram_length': len(lm('es', 3)),\n",
        "    }\n",
        "\n",
        "def test_eval():\n",
        "    return {\n",
        "        'english_on_english': round(eval(lm('en', 3), 'en'), 2),\n",
        "        'english_on_french': round(eval(lm('en', 3), 'fr'), 2),\n",
        "        'english_on_spanish': round(eval(lm('en', 3), 'es'), 2),\n",
        "    }\n",
        "\n",
        "def test_match():\n",
        "    df = match()\n",
        "    return {\n",
        "        'df_shape': df.shape,\n",
        "        'en_en_1': df[(df['source'] == 'en') & (df['target'] == 'en') & (df['n'] == 1)]['perplexity'].values[0],\n",
        "        'tl_tl_1': df[(df['source'] == 'tl') & (df['target'] == 'tl') & (df['n'] == 1)]['perplexity'].values[0],\n",
        "        'tl_nl_4': df[(df['source'] == 'tl') & (df['target'] == 'nl') & (df['n'] == 4)]['perplexity'].values[0],\n",
        "    }\n",
        "\n",
        "def test_generate():\n",
        "    return {\n",
        "        'english_2_gram': generate('en', 2, \"I am\", 20, 5),\n",
        "        'english_3_gram': generate('en', 3, \"I am\", 20, 5),\n",
        "        'english_4_gram': generate('en', 4, \"I Love\", 20, 5),\n",
        "        'spanish_2_gram': generate('es', 2, \"Soy\", 20, 5),\n",
        "        'spanish_3_gram': generate('es', 3, \"Soy\", 20, 5),\n",
        "        'french_2_gram': generate('fr', 2, \"Je suis\", 20, 5),\n",
        "        'french_3_gram': generate('fr', 3, \"Je suis\", 20, 5),\n",
        "    }\n",
        "\n",
        "TESTS = [test_preprocess, test_lm, test_eval, test_match, test_generate]\n",
        "\n",
        "# Run tests and save results\n",
        "res = {}\n",
        "for test in TESTS:\n",
        "    try:\n",
        "        cur_res = test()\n",
        "        res.update({test.__name__: cur_res})\n",
        "    except Exception as e:\n",
        "        res.update({test.__name__: repr(e)})\n",
        "\n",
        "with open('results.json', 'w') as f:\n",
        "    json.dump(res, f, indent=2)\n",
        "\n",
        "# Download the results.json file\n",
        "files.download('results.json')\n",
        "\n",
        "\n",
        "####################"
      ]
    },
    {
      "cell_type": "code",
      "execution_count": null,
      "metadata": {
        "colab": {
          "base_uri": "https://localhost:8080/"
        },
        "id": "kCksAA6RisRQ",
        "outputId": "d0a80d85-f49b-4a1d-bdbc-e9716a9574aa"
      },
      "outputs": [
        {
          "name": "stderr",
          "output_type": "stream",
          "text": [
            "'ls' is not recognized as an internal or external command,\n",
            "operable program or batch file.\n"
          ]
        }
      ],
      "source": [
        "# Show the local files, results.json should be there now and\n",
        "# also downloaded to your local machine\n",
        "!ls -l"
      ]
    },
    {
      "cell_type": "code",
      "execution_count": null,
      "metadata": {
        "id": "uMSfgUtuiux0"
      },
      "outputs": [
        {
          "ename": "KeyboardInterrupt",
          "evalue": "",
          "output_type": "error",
          "traceback": [
            "\u001b[1;31m---------------------------------------------------------------------------\u001b[0m",
            "\u001b[1;31mKeyboardInterrupt\u001b[0m                         Traceback (most recent call last)",
            "Cell \u001b[1;32mIn[119], line 2\u001b[0m\n\u001b[0;32m      1\u001b[0m temp \u001b[38;5;241m=\u001b[39m lm(\u001b[38;5;124m\"\u001b[39m\u001b[38;5;124men\u001b[39m\u001b[38;5;124m\"\u001b[39m, \u001b[38;5;241m4\u001b[39m)\n\u001b[1;32m----> 2\u001b[0m \u001b[38;5;28;43mprint\u001b[39;49m\n",
            "File \u001b[1;32mc:\\Users\\user\\miniconda3\\envs\\nlp\\Lib\\site-packages\\debugpy\\_vendored\\pydevd\\_pydevd_bundle\\pydevd_frame.py:988\u001b[0m, in \u001b[0;36mPyDBFrame.trace_dispatch\u001b[1;34m(self, frame, event, arg)\u001b[0m\n\u001b[0;32m    986\u001b[0m \u001b[38;5;66;03m# if thread has a suspend flag, we suspend with a busy wait\u001b[39;00m\n\u001b[0;32m    987\u001b[0m \u001b[38;5;28;01mif\u001b[39;00m info\u001b[38;5;241m.\u001b[39mpydev_state \u001b[38;5;241m==\u001b[39m STATE_SUSPEND:\n\u001b[1;32m--> 988\u001b[0m     \u001b[38;5;28;43mself\u001b[39;49m\u001b[38;5;241;43m.\u001b[39;49m\u001b[43mdo_wait_suspend\u001b[49m\u001b[43m(\u001b[49m\u001b[43mthread\u001b[49m\u001b[43m,\u001b[49m\u001b[43m \u001b[49m\u001b[43mframe\u001b[49m\u001b[43m,\u001b[49m\u001b[43m \u001b[49m\u001b[43mevent\u001b[49m\u001b[43m,\u001b[49m\u001b[43m \u001b[49m\u001b[43marg\u001b[49m\u001b[43m)\u001b[49m\n\u001b[0;32m    989\u001b[0m     \u001b[38;5;28;01mreturn\u001b[39;00m \u001b[38;5;28mself\u001b[39m\u001b[38;5;241m.\u001b[39mtrace_dispatch\n\u001b[0;32m    990\u001b[0m \u001b[38;5;28;01melse\u001b[39;00m:\n",
            "File \u001b[1;32mc:\\Users\\user\\miniconda3\\envs\\nlp\\Lib\\site-packages\\debugpy\\_vendored\\pydevd\\_pydevd_bundle\\pydevd_frame.py:165\u001b[0m, in \u001b[0;36mPyDBFrame.do_wait_suspend\u001b[1;34m(self, *args, **kwargs)\u001b[0m\n\u001b[0;32m    164\u001b[0m \u001b[38;5;28;01mdef\u001b[39;00m \u001b[38;5;21mdo_wait_suspend\u001b[39m(\u001b[38;5;28mself\u001b[39m, \u001b[38;5;241m*\u001b[39margs, \u001b[38;5;241m*\u001b[39m\u001b[38;5;241m*\u001b[39mkwargs):\n\u001b[1;32m--> 165\u001b[0m     \u001b[38;5;28;43mself\u001b[39;49m\u001b[38;5;241;43m.\u001b[39;49m\u001b[43m_args\u001b[49m\u001b[43m[\u001b[49m\u001b[38;5;241;43m0\u001b[39;49m\u001b[43m]\u001b[49m\u001b[38;5;241;43m.\u001b[39;49m\u001b[43mdo_wait_suspend\u001b[49m\u001b[43m(\u001b[49m\u001b[38;5;241;43m*\u001b[39;49m\u001b[43margs\u001b[49m\u001b[43m,\u001b[49m\u001b[43m \u001b[49m\u001b[38;5;241;43m*\u001b[39;49m\u001b[38;5;241;43m*\u001b[39;49m\u001b[43mkwargs\u001b[49m\u001b[43m)\u001b[49m\n",
            "File \u001b[1;32mc:\\Users\\user\\miniconda3\\envs\\nlp\\Lib\\site-packages\\debugpy\\_vendored\\pydevd\\pydevd.py:2070\u001b[0m, in \u001b[0;36mPyDB.do_wait_suspend\u001b[1;34m(self, thread, frame, event, arg, exception_type)\u001b[0m\n\u001b[0;32m   2067\u001b[0m             from_this_thread\u001b[38;5;241m.\u001b[39mappend(frame_custom_thread_id)\n\u001b[0;32m   2069\u001b[0m     \u001b[38;5;28;01mwith\u001b[39;00m \u001b[38;5;28mself\u001b[39m\u001b[38;5;241m.\u001b[39m_threads_suspended_single_notification\u001b[38;5;241m.\u001b[39mnotify_thread_suspended(thread_id, thread, stop_reason):\n\u001b[1;32m-> 2070\u001b[0m         keep_suspended \u001b[38;5;241m=\u001b[39m \u001b[38;5;28;43mself\u001b[39;49m\u001b[38;5;241;43m.\u001b[39;49m\u001b[43m_do_wait_suspend\u001b[49m\u001b[43m(\u001b[49m\u001b[43mthread\u001b[49m\u001b[43m,\u001b[49m\u001b[43m \u001b[49m\u001b[43mframe\u001b[49m\u001b[43m,\u001b[49m\u001b[43m \u001b[49m\u001b[43mevent\u001b[49m\u001b[43m,\u001b[49m\u001b[43m \u001b[49m\u001b[43marg\u001b[49m\u001b[43m,\u001b[49m\u001b[43m \u001b[49m\u001b[43msuspend_type\u001b[49m\u001b[43m,\u001b[49m\u001b[43m \u001b[49m\u001b[43mfrom_this_thread\u001b[49m\u001b[43m,\u001b[49m\u001b[43m \u001b[49m\u001b[43mframes_tracker\u001b[49m\u001b[43m)\u001b[49m\n\u001b[0;32m   2072\u001b[0m frames_list \u001b[38;5;241m=\u001b[39m \u001b[38;5;28;01mNone\u001b[39;00m\n\u001b[0;32m   2074\u001b[0m \u001b[38;5;28;01mif\u001b[39;00m keep_suspended:\n\u001b[0;32m   2075\u001b[0m     \u001b[38;5;66;03m# This means that we should pause again after a set next statement.\u001b[39;00m\n",
            "File \u001b[1;32mc:\\Users\\user\\miniconda3\\envs\\nlp\\Lib\\site-packages\\debugpy\\_vendored\\pydevd\\pydevd.py:2106\u001b[0m, in \u001b[0;36mPyDB._do_wait_suspend\u001b[1;34m(self, thread, frame, event, arg, suspend_type, from_this_thread, frames_tracker)\u001b[0m\n\u001b[0;32m   2103\u001b[0m         \u001b[38;5;28mself\u001b[39m\u001b[38;5;241m.\u001b[39m_call_input_hook()\n\u001b[0;32m   2105\u001b[0m     \u001b[38;5;28mself\u001b[39m\u001b[38;5;241m.\u001b[39mprocess_internal_commands()\n\u001b[1;32m-> 2106\u001b[0m     \u001b[43mtime\u001b[49m\u001b[38;5;241;43m.\u001b[39;49m\u001b[43msleep\u001b[49m\u001b[43m(\u001b[49m\u001b[38;5;241;43m0.01\u001b[39;49m\u001b[43m)\u001b[49m\n\u001b[0;32m   2108\u001b[0m \u001b[38;5;28mself\u001b[39m\u001b[38;5;241m.\u001b[39mcancel_async_evaluation(get_current_thread_id(thread), \u001b[38;5;28mstr\u001b[39m(\u001b[38;5;28mid\u001b[39m(frame)))\n\u001b[0;32m   2110\u001b[0m \u001b[38;5;66;03m# process any stepping instructions\u001b[39;00m\n",
            "\u001b[1;31mKeyboardInterrupt\u001b[0m: "
          ]
        }
      ],
      "source": [
        "# temp = lm(\"en\", 4)\n",
        "# print"
      ]
    }
  ],
  "metadata": {
    "colab": {
      "provenance": []
    },
    "kernelspec": {
      "display_name": "Python 3",
      "name": "python3"
    },
    "language_info": {
      "codemirror_mode": {
        "name": "ipython",
        "version": 3
      },
      "file_extension": ".py",
      "mimetype": "text/x-python",
      "name": "python",
      "nbconvert_exporter": "python",
      "pygments_lexer": "ipython3",
      "version": "3.12.2"
    }
  },
  "nbformat": 4,
  "nbformat_minor": 0
}
