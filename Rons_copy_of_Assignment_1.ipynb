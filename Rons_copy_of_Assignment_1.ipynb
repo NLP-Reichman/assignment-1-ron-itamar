{
  "cells": [
    {
      "cell_type": "markdown",
      "metadata": {
        "id": "FECp14-d_F2e"
      },
      "source": [
        "# Set up"
      ]
    },
    {
      "cell_type": "code",
      "execution_count": 52,
      "metadata": {
        "colab": {
          "base_uri": "https://localhost:8080/"
        },
        "id": "za-DgcYB_IQx",
        "outputId": "6fa520fa-31d6-4ec3-939a-566549fe75f1"
      },
      "outputs": [
        {
          "name": "stderr",
          "output_type": "stream",
          "text": [
            "'git' is not recognized as an internal or external command,\n",
            "operable program or batch file.\n",
            "'mv' is not recognized as an internal or external command,\n",
            "operable program or batch file.\n",
            "'rm' is not recognized as an internal or external command,\n",
            "operable program or batch file.\n"
          ]
        }
      ],
      "source": [
        "!git clone https://github.com/NLP-Reichman/assignment_1.git\n",
        "!mv assignment_1/data data\n",
        "!rm assignment_1/ -r"
      ]
    },
    {
      "cell_type": "markdown",
      "metadata": {
        "id": "0i2bOXTB8Dvc"
      },
      "source": [
        "# Introduction\n",
        "In this assignment you will be creating tools for learning and testing language models. The corpora that you will be working with are lists of tweets in 8 different languages that use the Latin script. The data is provided either formatted as CSV or as JSON, for your convenience. The end goal is to write a set of tools that can detect the language of a given tweet.\n",
        "The relevant files are under the data folder:\n",
        "\n",
        "- en.csv (or the equivalent JSON file)\n",
        "- es.csv (or the equivalent JSON file)\n",
        "- fr.csv (or the equivalent JSON file)\n",
        "- in.csv (or the equivalent JSON file)\n",
        "- it.csv (or the equivalent JSON file)\n",
        "- nl.csv (or the equivalent JSON file)\n",
        "- pt.csv (or the equivalent JSON file)\n",
        "- tl.csv (or the equivalent JSON file)"
      ]
    },
    {
      "cell_type": "code",
      "execution_count": 53,
      "metadata": {
        "id": "1u1qR7iaq_GU"
      },
      "outputs": [],
      "source": [
        "import json\n",
        "from google.colab import files\n",
        "import pandas as pd"
      ]
    },
    {
      "cell_type": "markdown",
      "metadata": {
        "id": "IHN0tWTurwkN"
      },
      "source": [
        "# Implementation"
      ]
    },
    {
      "cell_type": "markdown",
      "metadata": {
        "id": "i56aKA0K8adr"
      },
      "source": [
        "## Part 1\n",
        "Implement the function *preprocess* that iterates over all the data files and creates a single vocabulary, containing all the tokens in the data. Our token definition is a single UTF-8 encoded character. So, the vocabulary list is a simple Python list of all the characters that you see at least once in the data.\n",
        "\n",
        "Note - do NOT lowercase the sentences in whi HW."
      ]
    },
    {
      "cell_type": "code",
      "execution_count": 54,
      "metadata": {
        "colab": {
          "base_uri": "https://localhost:8080/",
          "height": 352
        },
        "id": "ws_5u7vRrg0o",
        "outputId": "8c4fbc98-1977-4305-c258-bb94db1aadfd"
      },
      "outputs": [],
      "source": [
        "import os\n",
        "start_token = '\\uE000'  # Using Private Use Area character\n",
        "end_token = '\\uE001'    # Using Private Use Area character\n",
        "def preprocess() -> list[str]:\n",
        "  '''\n",
        "  Return a list of characters, representing the shared vocabulary of all languages\n",
        "  '''\n",
        "  data_folder_path = \"./data\"\n",
        "\n",
        "  unique_characters = set()\n",
        "  # Iterate through all files in the data folder\n",
        "  for filename in os.listdir(data_folder_path):\n",
        "\n",
        "      # Check if the file is a JSON file\n",
        "      if filename.endswith(\".json\"):\n",
        "          # print(filename)\n",
        "          # Get the full path to the file\n",
        "          file_path = os.path.join(data_folder_path, filename)\n",
        "\n",
        "          # Open the file and read its contents\n",
        "          with open(file_path, \"r\", encoding='utf-8-sig') as f:\n",
        "              # Load the JSON data as a uTF-8 encoded string\n",
        "              json_data = json.load(f)\n",
        "              for key, val in json_data[\"tweet_text\"].items():\n",
        "                #   print(key, val)\n",
        "                  for c in val:\n",
        "                    unique_characters.add(c) # Update the hash with the token in utf-8 encoding\n",
        "\n",
        "                      \n",
        "\n",
        "\n",
        "  # add the 2 special chars to the set:               \n",
        "  unique_characters.add(start_token)\n",
        "  unique_characters.add(end_token)\n",
        "  return sorted(list(unique_characters))\n",
        "\n",
        "\n"
      ]
    },
    {
      "cell_type": "code",
      "execution_count": 55,
      "metadata": {},
      "outputs": [],
      "source": [
        "vocabulary = preprocess()\n",
        "vocabulary_length = len(vocabulary)\n",
        "# print(f\"Vocabulary length: {vocabulary_length}\")"
      ]
    },
    {
      "cell_type": "markdown",
      "metadata": {
        "id": "tpjtwHW08jyH"
      },
      "source": [
        "## Part 2\n",
        "Implement the function *lm* that generates a language model from a textual corpus. The function should return a dictionary (representing a model) where the keys are all the relevant *n*-1 sequences, and the values are dictionaries with the *n*_th tokens and their corresponding probabilities to occur. For example, for a trigram model (tokens are characters), it should look something like:\n",
        "\n",
        "{ \"ab\":{\"c\":0.5, \"b\":0.25, \"d\":0.25}, \"ca\":{\"a\":0.2, \"b\":0.7, \"d\":0.1} }\n",
        "\n",
        "which means for example that after the sequence \"ab\", there is a 0.5 chance that \"c\" will appear, 0.25 for \"b\" to appear and 0.25 for \"d\" to appear.\n",
        "\n",
        "Note - You should think how to add the add_one smoothing information to the dictionary and implement it."
      ]
    },
    {
      "cell_type": "code",
      "execution_count": 56,
      "metadata": {
        "id": "uySEXdEUrkq_"
      },
      "outputs": [],
      "source": [
        "class inner_gram_dict(dict):\n",
        "    '''\n",
        "    A subclassed dictionary to store the probabilities of the nth charecter in an n-gram\n",
        "    To save memory, we will store the size of the vocabulary for the key\n",
        "     which is linked with this dict - and as a result will be able to return 1/V\n",
        "     for missing values without having to store the entire vocabulary explicitly.\n",
        "     This saves a lot of memory when the analyzed corpus is large.\n",
        "    '''\n",
        "    def __init__(self, vocabulary_size=0, *args, **kwargs):\n",
        "        super().__init__(*args, **kwargs)\n",
        "\n",
        "        self.vocabulary_size = vocabulary_size\n",
        "\n",
        "    def set_total_count(self, total_count):\n",
        "        self.total_count = total_count\n",
        "\n",
        "    def __missing__(self, key):\n",
        "    #    self[key] = self.default_probability\n",
        "        return 1 / self.vocabulary_size\n",
        "    \n",
        "def lm(lang: str, n: int, smoothed=False) -> dict[str, dict[str, float]]:\n",
        "    '''\n",
        "    Return a language model for the given lang and n_gram (n)\n",
        "    :param lang: the language of the model\n",
        "    :param n: the n_gram value\n",
        "    :return: a dictionary where the keys are n_grams and the values are dictionaries\n",
        "              with the n_th tokens and their corresponding probabilities to occur\n",
        "    '''\n",
        "    model = {}\n",
        "    model['Unknown'] = inner_gram_dict(vocabulary_length if (smoothed == True)  else 0)\n",
        "    data_folder_path = \"./data\"\n",
        "    filename = f\"{lang}.json\"\n",
        "    file_path = os.path.join(data_folder_path, filename)\n",
        "    \n",
        "    # Open the file and read its contents\n",
        "    with open(file_path, \"r\", encoding='utf-8-sig') as f:\n",
        "        json_data = json.loads(f.read())\n",
        "        # Iterate through each sentence in the corpus\n",
        "        for key, sentence in json_data[\"tweet_text\"].items():\n",
        "            # Iterate through each n-gram in the sentence\n",
        "            # add n-1 start tokens and 1 end token to the sentence:\n",
        "            sentence = start_token * (n-1) + sentence + end_token\n",
        "          \n",
        "            for i in range(len(sentence) - n + 1):\n",
        "                ngram = sentence[i:i+n-1]\n",
        "                next_token = sentence[i+n-1]\n",
        "\n",
        "                # Check if the n-gram is not already in the model\n",
        "                if ngram not in model:\n",
        "                    model[ngram] = {}\n",
        "                # handle next_token:\n",
        "                if next_token not in model[ngram]:\n",
        "                    model[ngram][next_token] = 0\n",
        "                model[ngram][next_token] += 1\n",
        "                    \n",
        "    \n",
        "    # Calculate the probabilities for each n-gram\n",
        "    for ngram in model:\n",
        "        if smoothed:\n",
        "            # add all unseen chars from the vocabulary to the model, with a value of 1 (smoothing):\n",
        "            for char in vocabulary:\n",
        "                if char in model[ngram]:\n",
        "                    model[ngram][char] += 1      \n",
        "\n",
        "        total_count = sum(model[ngram].values())\n",
        "        if smoothed:\n",
        "            total_count += vocabulary_length\n",
        "        for token in model[ngram]:\n",
        "            model[ngram][token] /= total_count\n",
        "    \n",
        "    return model\n"
      ]
    },
    {
      "cell_type": "code",
      "execution_count": 57,
      "metadata": {},
      "outputs": [],
      "source": [
        "# res = lm(\"en\",2)\n",
        "# print(f'unsmoothed len res: {len(res)}')\n",
        "\n",
        "# res = lm(\"en\",3, True)\n",
        "# print(f'smoothed len res: {len(res)}')\n",
        "\n",
        "# res = lm(\"fr\",3, smoothed=True)\n",
        "# print(f'smoothed len res: {len(res)}')\n",
        "# # print(res['a'])\n",
        "\n",
        "# res = lm(\"es\",3)\n",
        "# print(f'unsmoothed len res: {len(res)}')\n",
        "\n"
      ]
    },
    {
      "cell_type": "markdown",
      "metadata": {
        "id": "xwZnk7Ke8rW5"
      },
      "source": [
        "## Part 3\n",
        "Implement the function *eval* that returns the perplexity of a model (dictionary) running over the data file of the given target language."
      ]
    },
    {
      "cell_type": "code",
      "execution_count": 58,
      "metadata": {
        "id": "ef-EglxXrmk2"
      },
      "outputs": [],
      "source": [
        "import math\n",
        "import numpy as np\n",
        "def eval(model: dict, target_lang: str, n: int) -> float:\n",
        "  '''\n",
        "  Return the perplexity value calculated over applying the model on the text file\n",
        "  of the target_lang language.\n",
        "  :param model: the language model\n",
        "  :param target_lang: the target language\n",
        "  :return: the perplexity value\n",
        "  '''\n",
        "  # n = len(list(model.keys())[0]) + 1\n",
        "\n",
        "  data_folder_path = \"./data\"\n",
        "  filename = f\"{target_lang}.json\"\n",
        "  file_path = os.path.join(data_folder_path, filename)\n",
        "  perplexity = 0\n",
        "  # Open the file and read its contents\n",
        "  with open(file_path, \"r\", encoding='utf-8-sig') as f:\n",
        "      json_data = json.loads(f.read())\n",
        "      # Iterate through each sentence in the corpus\n",
        "      perplexities = []\n",
        "      for key, sentence in json_data[\"tweet_text\"].items():\n",
        "        sentence = start_token * (n-1) + sentence + end_token\n",
        "        sentence_enthropy = 0\n",
        "        # probabilities= [] (only to test the calculation)\n",
        "        for i in range(len(sentence) - n + 1):\n",
        "            ngram = sentence[i:i+n-1]\n",
        "            next_token = sentence[i+n-1]\n",
        "            if ngram in model:\n",
        "                if next_token in model[ngram]:\n",
        "                    # probabilities.append(model[ngram][next_token])\n",
        "                    sentence_enthropy +=  ( -1 * np.log2(model[ngram][next_token]))\n",
        "                else:\n",
        "                    # probabilities.append(1/vocabulary_length)\n",
        "                    sentence_enthropy += -1 * np.log2(1/vocabulary_length) # # todo  review\n",
        "                    # throw an exception if the token is not in the model's keys\n",
        "                    # raise Exception(f\"{next_token} NOT IN MODEL for {ngram}\")\n",
        "                    # sentence_enthropy +=  ( -1 * math.log2(model[ngram]['unknown']))\n",
        "            else:\n",
        "                #raise an exception if the ngram is not in the model's keys\n",
        "                # raise Exception(\"NOT IN MODEL\")\n",
        "                # probabilities.append(1/vocabulary_length)\n",
        "                sentence_enthropy += -1 * np.log2(1/vocabulary_length) # # todo  review\n",
        "              \n",
        "        # entropies = [-np.log2(prop) for prop in probabilities]\n",
        "        # entropy = np.average(entropies)\n",
        "        # perplexity = 2 ** entropy\n",
        "        # # assert similarity between perplexity and the perplexity calculated from the sentence's entropy\n",
        "        # # do not use == but use some tolerance, as the calculation of the perplexity is not accurate\n",
        "        # assert abs(perplexity - 2 ** (sentence_enthropy/(len(sentence) - n + 1))) < 0.0001\n",
        "        \n",
        "        perplexities.append(2 ** (sentence_enthropy/(len(sentence) - n + 1)))\n",
        "        # print(f'{sentence}\\nperplexity: {perplexities[-1]}')\n",
        "        \n",
        "  res =  np.average(perplexities)\n",
        "  \n",
        "#   print(f'perplexity: {res}')\n",
        "  return res\n",
        "  \n"
      ]
    },
    {
      "cell_type": "code",
      "execution_count": 59,
      "metadata": {},
      "outputs": [],
      "source": [
        "# for n in range(3, 4):\n",
        "#     model = lm(\"en\", n, smoothed=True)\n",
        "#     for eval_lang in [\"en\", \"fr\", \"es\"]:\n",
        "\n",
        "#         perplexity =  eval(model, eval_lang, n)\n",
        "#         print(f\"Eval lang {eval_lang} on en  SMOOTHED n=={n} : Perplexity: {perplexity}\")"
      ]
    },
    {
      "cell_type": "markdown",
      "metadata": {
        "id": "9ZYVc7hB84LP"
      },
      "source": [
        "## Part 4\n",
        "Implement the *match* function that calls *eval* using a specific value of *n* for every possible language pair among the languages we have data for. You should call *eval* for every language pair four times, with each call assign a different value for *n* (1-4). Each language pair is composed of the source language and the target language. Before you make the call, you need to call the *lm* function to create the language model for the source language. Then you can call *eval* with the language model and the target language. The function should return a pandas DataFrame with the following four columns: *source_lang*, *target_lang*, *n*, *perplexity*. The values for the first two columns are the two-letter language codes. The value for *n* is the *n* you use for generating the specific perplexity values which you should store in the forth column."
      ]
    },
    {
      "cell_type": "code",
      "execution_count": 60,
      "metadata": {
        "id": "16ew9aZWroPC"
      },
      "outputs": [],
      "source": [
        "def match() -> pd.DataFrame:\n",
        "  '''\n",
        "  Return a DataFrame containing one line per every language pair and n_gram.\n",
        "  Each line will contain the perplexity calculated when applying the language model\n",
        "  of the source language on the text of the target language.\n",
        "  :return: a DataFrame containing the perplexity values\n",
        "  '''\n",
        "  perplexity_values = []\n",
        "  for n in range(1, 5):\n",
        "    for model_lang in [\"en\", \"es\", \"fr\", \"in\", \"it\", \"nl\", \"pt\", \"tl\"]:\n",
        "      model = lm(model_lang, n, True)\n",
        "\n",
        "      for lang in [\"en\", \"es\", \"fr\", \"in\", \"it\", \"nl\", \"pt\", \"tl\"]:\n",
        "        perplexity = eval(model, lang, n)\n",
        "        perplexity_values.append({\"source\": model_lang, \"target\": lang, \"n\": n, \"perplexity\": perplexity})\n",
        "        print(f'source: {model_lang}, target: {lang}, n: {n}, perplexity: {perplexity}')\n",
        "  return pd.DataFrame(perplexity_values)\n",
        "\n",
        "# df = match()"
      ]
    },
    {
      "cell_type": "code",
      "execution_count": 61,
      "metadata": {},
      "outputs": [],
      "source": [
        "# print(df[3]['en'])"
      ]
    },
    {
      "cell_type": "markdown",
      "metadata": {},
      "source": []
    },
    {
      "cell_type": "markdown",
      "metadata": {
        "id": "pAQoR0dH9C3T"
      },
      "source": [
        "## Part 5\n",
        "Implement the *generate* function which takes a language code, *n*, the prompt (the starting text), the number of tokens to generate, and *r*, which is the random seed for any randomized action you plan to take in your implementation. The function should start generating tokens, one by one, using the language model of the given source language and *n*. The prompt should be used as a starting point for aligning on the probabilities to be used for generating the next token.\n",
        "\n",
        "Note - The generation of the next token should be from the LM's distribution."
      ]
    },
    {
      "cell_type": "code",
      "execution_count": 62,
      "metadata": {
        "id": "CpCm24-RrpuA"
      },
      "outputs": [],
      "source": [
        "import random\n",
        "models_1 = {}\n",
        "# for each language create a model with n=1, no smoothing:\n",
        "for lang in [\"en\", \"es\", \"fr\", \"in\", \"it\", \"nl\", \"pt\", \"tl\"]:\n",
        "  models_1[lang] = lm(lang, 1, False)\n",
        "\n",
        "def get_next_token(model, ngram, lang):\n",
        "  '''\n",
        "  Return the next token based on the given model, ngram, and random value from 0 to 1.\n",
        "  '''\n",
        "  # iterate over the model[ngram] and sum the probabilities until the sum is greater than rand:\n",
        "  sum = 0\n",
        "  # get a random number between 0 to 1:\n",
        "  rand = random.random()\n",
        "  try:\n",
        "    for token, prob in model[ngram].items():\n",
        "      sum += prob\n",
        "      if sum > rand:\n",
        "        return token\n",
        "  except:\n",
        "    # reutrn the most common token in language if ngram is not in the model:\n",
        "    return get_next_token(models_1[lang], '', lang)\n",
        "\n",
        "\n",
        "def generate(lang: str, n: int, prompt: str, number_of_tokens: int, r: int) -> str:\n",
        "  '''\n",
        "  Generate text in the given language using the given parameters.\n",
        "  :param lang: the language of the model\n",
        "  :param n: the n_gram value\n",
        "  :param prompt: the prompt to start the generation\n",
        "  :param number_of_tokens: the number of tokens to generate\n",
        "  :param r: the random seed to use\n",
        "  '''\n",
        "  # initialize random seed with r\n",
        "  random.seed(r)\n",
        "  model = lm(lang, n)\n",
        "  generated_text = prompt\n",
        "  # handle short prompts (pad with start tokens)\n",
        "  if len(generated_text) < n - 1:\n",
        "    generated_text = start_token * (n - 1 - len(generated_text)) + generated_text\n",
        "   \n",
        "  for i in range(number_of_tokens):\n",
        "    ngram = generated_text[-n+1:] # TODO handle the case of shorter prompts\n",
        "    # get next token based on the model and the dustribution in model[ngram] . use the random seed\n",
        "    next_token = get_next_token(model, ngram, lang)\n",
        "    # max(model[ngram], key=model[ngram].get)\n",
        "    generated_text += next_token\n",
        "    # break if the end token is generated:\n",
        "    if next_token == end_token:\n",
        "      break\n",
        "  return generated_text\n",
        "\n",
        "# print(generate(\"en\", 3, \"I am \", 20, 5))\n",
        "# print(generate(\"fr\", 3, \"je suis \", 20, 5))"
      ]
    },
    {
      "cell_type": "markdown",
      "metadata": {
        "id": "eUWX8Ugu9INH"
      },
      "source": [
        "## Part 6\n",
        "Play with your generate function, try to generate different texts in different language and various values of *n*. No need to submit anything of that."
      ]
    },
    {
      "cell_type": "code",
      "execution_count": 63,
      "metadata": {
        "id": "0ykbMBzG9LWn"
      },
      "outputs": [],
      "source": [
        "# print(generate(\"fr\", 2, \"je suis \", 20, 5))\n",
        "# print(generate(\"fr\", 2, \"je suis \", 20, 5))\n",
        "# print(generate(\"fr\", 2, \"je suis\", 20, 5))\n",
        "\n",
        "# print(generate(\"en\", 2, \"I am \", 20, 5))\n",
        "# print(generate(\"en\", 2, \"I am\", 20, 5))"
      ]
    },
    {
      "cell_type": "markdown",
      "metadata": {
        "id": "q2jNlDISr9aL"
      },
      "source": [
        "# Testing"
      ]
    },
    {
      "cell_type": "markdown",
      "metadata": {
        "id": "uv48OCT_sIYW"
      },
      "source": [
        "Copy the content of the **tests.py** file from the repo and paste below. This will create the results.json file and download it to your machine."
      ]
    },
    {
      "cell_type": "code",
      "execution_count": 64,
      "metadata": {
        "colab": {
          "base_uri": "https://localhost:8080/",
          "height": 17
        },
        "id": "JZTlc2ieruqq",
        "outputId": "48177a3b-7f5e-42fd-8ebd-e2f5a6eddf19"
      },
      "outputs": [
        {
          "name": "stdout",
          "output_type": "stream",
          "text": [
            "source: en, target: en, n: 1, perplexity: 42.76682461040326\n",
            "source: en, target: es, n: 1, perplexity: 42.67046214659845\n",
            "source: en, target: fr, n: 1, perplexity: 43.14063470698611\n",
            "source: en, target: in, n: 1, perplexity: 45.81344053143406\n",
            "source: en, target: it, n: 1, perplexity: 44.045960028952855\n",
            "source: en, target: nl, n: 1, perplexity: 47.228668850780814\n",
            "source: en, target: pt, n: 1, perplexity: 44.59434819329026\n",
            "source: en, target: tl, n: 1, perplexity: 52.659587034271645\n",
            "source: es, target: en, n: 1, perplexity: 46.43514746773465\n",
            "source: es, target: es, n: 1, perplexity: 41.125669499400104\n",
            "source: es, target: fr, n: 1, perplexity: 42.442137184256\n",
            "source: es, target: in, n: 1, perplexity: 48.40054336723995\n",
            "source: es, target: it, n: 1, perplexity: 44.32664060784248\n",
            "source: es, target: nl, n: 1, perplexity: 46.37009705225956\n",
            "source: es, target: pt, n: 1, perplexity: 41.44749360308283\n",
            "source: es, target: tl, n: 1, perplexity: 51.91310100711027\n",
            "source: fr, target: en, n: 1, perplexity: 45.8475955360683\n",
            "source: fr, target: es, n: 1, perplexity: 42.98679581645788\n",
            "source: fr, target: fr, n: 1, perplexity: 40.803336555304675\n",
            "source: fr, target: in, n: 1, perplexity: 49.73500041456043\n",
            "source: fr, target: it, n: 1, perplexity: 44.870708476743026\n",
            "source: fr, target: nl, n: 1, perplexity: 45.40168048680289\n",
            "source: fr, target: pt, n: 1, perplexity: 43.77838512927685\n",
            "source: fr, target: tl, n: 1, perplexity: 54.158744045807374\n",
            "source: in, target: en, n: 1, perplexity: 46.939837291647926\n",
            "source: in, target: es, n: 1, perplexity: 44.91008119117771\n",
            "source: in, target: fr, n: 1, perplexity: 48.09009489582041\n",
            "source: in, target: in, n: 1, perplexity: 47.04133756828606\n",
            "source: in, target: it, n: 1, perplexity: 46.98138015800282\n",
            "source: in, target: nl, n: 1, perplexity: 47.258316031042845\n",
            "source: in, target: pt, n: 1, perplexity: 46.09460664733432\n",
            "source: in, target: tl, n: 1, perplexity: 52.93606348053509\n",
            "source: it, target: en, n: 1, perplexity: 44.939851519782515\n",
            "source: it, target: es, n: 1, perplexity: 41.737542246582635\n",
            "source: it, target: fr, n: 1, perplexity: 41.99359206176525\n",
            "source: it, target: in, n: 1, perplexity: 47.73927365517868\n",
            "source: it, target: it, n: 1, perplexity: 42.490385557703824\n",
            "source: it, target: nl, n: 1, perplexity: 46.84393464301005\n",
            "source: it, target: pt, n: 1, perplexity: 42.40059609361885\n",
            "source: it, target: tl, n: 1, perplexity: 50.87834391061606\n",
            "source: nl, target: en, n: 1, perplexity: 45.307756533478816\n",
            "source: nl, target: es, n: 1, perplexity: 43.43905070422354\n",
            "source: nl, target: fr, n: 1, perplexity: 43.909668292404945\n",
            "source: nl, target: in, n: 1, perplexity: 46.19307373536812\n",
            "source: nl, target: it, n: 1, perplexity: 45.388904357945215\n",
            "source: nl, target: nl, n: 1, perplexity: 45.322092225563395\n",
            "source: nl, target: pt, n: 1, perplexity: 45.231153841702756\n",
            "source: nl, target: tl, n: 1, perplexity: 51.702413350742965\n",
            "source: pt, target: en, n: 1, perplexity: 45.842697881121836\n",
            "source: pt, target: es, n: 1, perplexity: 41.404282150725116\n",
            "source: pt, target: fr, n: 1, perplexity: 42.37204220771867\n",
            "source: pt, target: in, n: 1, perplexity: 47.72101897450167\n",
            "source: pt, target: it, n: 1, perplexity: 44.41070996586327\n",
            "source: pt, target: nl, n: 1, perplexity: 45.703433903692876\n",
            "source: pt, target: pt, n: 1, perplexity: 41.52909200277547\n",
            "source: pt, target: tl, n: 1, perplexity: 54.34816807915418\n",
            "source: tl, target: en, n: 1, perplexity: 45.207052832798794\n",
            "source: tl, target: es, n: 1, perplexity: 44.624804699782125\n",
            "source: tl, target: fr, n: 1, perplexity: 47.995733777412745\n",
            "source: tl, target: in, n: 1, perplexity: 42.812984232096966\n",
            "source: tl, target: it, n: 1, perplexity: 45.14768951168616\n",
            "source: tl, target: nl, n: 1, perplexity: 49.00427489544086\n",
            "source: tl, target: pt, n: 1, perplexity: 46.409837496801494\n",
            "source: tl, target: tl, n: 1, perplexity: 56.55216091953691\n",
            "source: en, target: en, n: 2, perplexity: 23.134626108268353\n",
            "source: en, target: es, n: 2, perplexity: 29.795648601305334\n",
            "source: en, target: fr, n: 2, perplexity: 30.76395201708656\n",
            "source: en, target: in, n: 2, perplexity: 34.12331752977833\n",
            "source: en, target: it, n: 2, perplexity: 30.682335227735432\n",
            "source: en, target: nl, n: 2, perplexity: 31.559143583061537\n",
            "source: en, target: pt, n: 2, perplexity: 34.01728471973973\n",
            "source: en, target: tl, n: 2, perplexity: 33.53090043223955\n",
            "source: es, target: en, n: 2, perplexity: 35.126690025843075\n",
            "source: es, target: es, n: 2, perplexity: 20.99277769495915\n",
            "source: es, target: fr, n: 2, perplexity: 31.212499007827933\n",
            "source: es, target: in, n: 2, perplexity: 39.70700580852283\n",
            "source: es, target: it, n: 2, perplexity: 28.169192768753117\n",
            "source: es, target: nl, n: 2, perplexity: 38.439796405202095\n",
            "source: es, target: pt, n: 2, perplexity: 28.399869673402907\n",
            "source: es, target: tl, n: 2, perplexity: 39.10746761841746\n",
            "source: fr, target: en, n: 2, perplexity: 31.199589469115597\n",
            "source: fr, target: es, n: 2, perplexity: 27.73406602485349\n",
            "source: fr, target: fr, n: 2, perplexity: 21.976003188669548\n",
            "source: fr, target: in, n: 2, perplexity: 37.86649059184391\n",
            "source: fr, target: it, n: 2, perplexity: 30.055869320051208\n",
            "source: fr, target: nl, n: 2, perplexity: 34.48388138160266\n",
            "source: fr, target: pt, n: 2, perplexity: 31.35542534455701\n",
            "source: fr, target: tl, n: 2, perplexity: 39.70994625047482\n",
            "source: in, target: en, n: 2, perplexity: 32.076003518242764\n",
            "source: in, target: es, n: 2, perplexity: 32.27156768711259\n",
            "source: in, target: fr, n: 2, perplexity: 35.73629822916004\n",
            "source: in, target: in, n: 2, perplexity: 24.783926626767894\n",
            "source: in, target: it, n: 2, perplexity: 31.963324794692802\n",
            "source: in, target: nl, n: 2, perplexity: 33.50908529601878\n",
            "source: in, target: pt, n: 2, perplexity: 36.26781104713422\n",
            "source: in, target: tl, n: 2, perplexity: 30.114432472155308\n",
            "source: it, target: en, n: 2, perplexity: 34.51385450703664\n",
            "source: it, target: es, n: 2, perplexity: 26.782142932904065\n",
            "source: it, target: fr, n: 2, perplexity: 31.61187768209264\n",
            "source: it, target: in, n: 2, perplexity: 39.02946570864823\n",
            "source: it, target: it, n: 2, perplexity: 22.361443446258995\n",
            "source: it, target: nl, n: 2, perplexity: 38.00082851001117\n",
            "source: it, target: pt, n: 2, perplexity: 29.816483778988996\n",
            "source: it, target: tl, n: 2, perplexity: 37.52602731721175\n",
            "source: nl, target: en, n: 2, perplexity: 29.819949678281436\n",
            "source: nl, target: es, n: 2, perplexity: 33.11760837130148\n",
            "source: nl, target: fr, n: 2, perplexity: 32.77186207081488\n",
            "source: nl, target: in, n: 2, perplexity: 34.82539483180885\n",
            "source: nl, target: it, n: 2, perplexity: 33.567383577111194\n",
            "source: nl, target: nl, n: 2, perplexity: 24.064175339510136\n",
            "source: nl, target: pt, n: 2, perplexity: 36.5446191443176\n",
            "source: nl, target: tl, n: 2, perplexity: 35.540127228893084\n",
            "source: pt, target: en, n: 2, perplexity: 36.473676190579035\n",
            "source: pt, target: es, n: 2, perplexity: 25.949160161188487\n",
            "source: pt, target: fr, n: 2, perplexity: 32.11708295223238\n",
            "source: pt, target: in, n: 2, perplexity: 41.32104928134867\n",
            "source: pt, target: it, n: 2, perplexity: 29.356458476152266\n",
            "source: pt, target: nl, n: 2, perplexity: 39.95012676081437\n",
            "source: pt, target: pt, n: 2, perplexity: 22.140850440930507\n",
            "source: pt, target: tl, n: 2, perplexity: 40.11485252469471\n",
            "source: tl, target: en, n: 2, perplexity: 29.83488945936132\n",
            "source: tl, target: es, n: 2, perplexity: 30.540605627189645\n",
            "source: tl, target: fr, n: 2, perplexity: 35.51488077333019\n",
            "source: tl, target: in, n: 2, perplexity: 29.71728504875952\n",
            "source: tl, target: it, n: 2, perplexity: 30.37844643542865\n",
            "source: tl, target: nl, n: 2, perplexity: 34.61059790075495\n",
            "source: tl, target: pt, n: 2, perplexity: 34.36730493979948\n",
            "source: tl, target: tl, n: 2, perplexity: 24.514637028250323\n",
            "source: en, target: en, n: 3, perplexity: 31.967690915394076\n",
            "source: en, target: es, n: 3, perplexity: 66.66357514391323\n",
            "source: en, target: fr, n: 3, perplexity: 65.67419108710514\n",
            "source: en, target: in, n: 3, perplexity: 96.0135619265788\n",
            "source: en, target: it, n: 3, perplexity: 73.97709329090226\n",
            "source: en, target: nl, n: 3, perplexity: 76.6064046418905\n",
            "source: en, target: pt, n: 3, perplexity: 80.01753587712855\n",
            "source: en, target: tl, n: 3, perplexity: 89.44378913490506\n",
            "source: es, target: en, n: 3, perplexity: 82.37157087606582\n",
            "source: es, target: es, n: 3, perplexity: 29.56825183034268\n",
            "source: es, target: fr, n: 3, perplexity: 69.18874140351826\n",
            "source: es, target: in, n: 3, perplexity: 112.80869540582042\n",
            "source: es, target: it, n: 3, perplexity: 61.92685908588432\n",
            "source: es, target: nl, n: 3, perplexity: 103.99978932805222\n",
            "source: es, target: pt, n: 3, perplexity: 58.02754174194448\n",
            "source: es, target: tl, n: 3, perplexity: 108.27381068421602\n",
            "source: fr, target: en, n: 3, perplexity: 68.63689097983828\n",
            "source: fr, target: es, n: 3, perplexity: 58.3469659811688\n",
            "source: fr, target: fr, n: 3, perplexity: 30.281095092324684\n",
            "source: fr, target: in, n: 3, perplexity: 107.30194270402619\n",
            "source: fr, target: it, n: 3, perplexity: 69.90791678820607\n",
            "source: fr, target: nl, n: 3, perplexity: 88.00353670543663\n",
            "source: fr, target: pt, n: 3, perplexity: 72.53255197443082\n",
            "source: fr, target: tl, n: 3, perplexity: 108.93057837098146\n",
            "source: in, target: en, n: 3, perplexity: 71.97460740705877\n",
            "source: in, target: es, n: 3, perplexity: 76.78947666878398\n",
            "source: in, target: fr, n: 3, perplexity: 85.55636563686235\n",
            "source: in, target: in, n: 3, perplexity: 41.76938210441566\n",
            "source: in, target: it, n: 3, perplexity: 81.9667451823165\n",
            "source: in, target: nl, n: 3, perplexity: 86.21288599680206\n",
            "source: in, target: pt, n: 3, perplexity: 88.6094244631757\n",
            "source: in, target: tl, n: 3, perplexity: 70.03075970137715\n",
            "source: it, target: en, n: 3, perplexity: 79.29856546436788\n",
            "source: it, target: es, n: 3, perplexity: 54.60631701284671\n",
            "source: it, target: fr, n: 3, perplexity: 69.56868711404216\n",
            "source: it, target: in, n: 3, perplexity: 115.43900220238883\n",
            "source: it, target: it, n: 3, perplexity: 32.534718121228096\n",
            "source: it, target: nl, n: 3, perplexity: 104.44073083443303\n",
            "source: it, target: pt, n: 3, perplexity: 63.47112816138137\n",
            "source: it, target: tl, n: 3, perplexity: 97.78750210618023\n",
            "source: nl, target: en, n: 3, perplexity: 63.18890943047346\n",
            "source: nl, target: es, n: 3, perplexity: 79.65073654635914\n",
            "source: nl, target: fr, n: 3, perplexity: 73.25625126798754\n",
            "source: nl, target: in, n: 3, perplexity: 97.86315872763086\n",
            "source: nl, target: it, n: 3, perplexity: 87.25692347031769\n",
            "source: nl, target: nl, n: 3, perplexity: 37.988840762792286\n",
            "source: nl, target: pt, n: 3, perplexity: 92.50631048977267\n",
            "source: nl, target: tl, n: 3, perplexity: 92.35430641392506\n",
            "source: pt, target: en, n: 3, perplexity: 90.94544347703649\n",
            "source: pt, target: es, n: 3, perplexity: 54.06304775509145\n",
            "source: pt, target: fr, n: 3, perplexity: 77.76500347460606\n",
            "source: pt, target: in, n: 3, perplexity: 125.57781502552962\n",
            "source: pt, target: it, n: 3, perplexity: 69.81922828602085\n",
            "source: pt, target: nl, n: 3, perplexity: 116.95570811426909\n",
            "source: pt, target: pt, n: 3, perplexity: 31.498385327083316\n",
            "source: pt, target: tl, n: 3, perplexity: 109.50017370168335\n",
            "source: tl, target: en, n: 3, perplexity: 61.77751985236543\n",
            "source: tl, target: es, n: 3, perplexity: 71.27846140929947\n",
            "source: tl, target: fr, n: 3, perplexity: 84.87057359406238\n",
            "source: tl, target: in, n: 3, perplexity: 74.26853024654889\n",
            "source: tl, target: it, n: 3, perplexity: 75.09291309482043\n",
            "source: tl, target: nl, n: 3, perplexity: 90.95405969382846\n",
            "source: tl, target: pt, n: 3, perplexity: 83.83075854394835\n",
            "source: tl, target: tl, n: 3, perplexity: 38.87539566546142\n",
            "source: en, target: en, n: 4, perplexity: 73.95653545100464\n",
            "source: en, target: es, n: 4, perplexity: 290.12773856029065\n",
            "source: en, target: fr, n: 4, perplexity: 250.61350747229227\n",
            "source: en, target: in, n: 4, perplexity: 420.7726028382619\n",
            "source: en, target: it, n: 4, perplexity: 305.6643687604434\n",
            "source: en, target: nl, n: 4, perplexity: 280.8223055646179\n",
            "source: en, target: pt, n: 4, perplexity: 340.65617531622263\n",
            "source: en, target: tl, n: 4, perplexity: 340.8735029019549\n",
            "source: es, target: en, n: 4, perplexity: 307.71098491061053\n",
            "source: es, target: es, n: 4, perplexity: 68.73547575168473\n",
            "source: es, target: fr, n: 4, perplexity: 246.88128463434754\n",
            "source: es, target: in, n: 4, perplexity: 442.27542095030117\n",
            "source: es, target: it, n: 4, perplexity: 222.03543478476183\n",
            "source: es, target: nl, n: 4, perplexity: 366.2145307492149\n",
            "source: es, target: pt, n: 4, perplexity: 192.58857928517892\n",
            "source: es, target: tl, n: 4, perplexity: 400.2688902836954\n",
            "source: fr, target: en, n: 4, perplexity: 253.3886460742601\n",
            "source: fr, target: es, n: 4, perplexity: 225.62712572075026\n",
            "source: fr, target: fr, n: 4, perplexity: 68.34491214163242\n",
            "source: fr, target: in, n: 4, perplexity: 446.4577429382901\n",
            "source: fr, target: it, n: 4, perplexity: 274.16145878744123\n",
            "source: fr, target: nl, n: 4, perplexity: 317.96188523032464\n",
            "source: fr, target: pt, n: 4, perplexity: 285.08152209341984\n",
            "source: fr, target: tl, n: 4, perplexity: 415.74587364507374\n",
            "source: in, target: en, n: 4, perplexity: 270.177023095502\n",
            "source: in, target: es, n: 4, perplexity: 337.9106612920709\n",
            "source: in, target: fr, n: 4, perplexity: 348.5342534123266\n",
            "source: in, target: in, n: 4, perplexity: 107.72167474205322\n",
            "source: in, target: it, n: 4, perplexity: 343.9308972463682\n",
            "source: in, target: nl, n: 4, perplexity: 341.2863385141266\n",
            "source: in, target: pt, n: 4, perplexity: 376.06192987225194\n",
            "source: in, target: tl, n: 4, perplexity: 251.53905211983627\n",
            "source: it, target: en, n: 4, perplexity: 291.59069057587726\n",
            "source: it, target: es, n: 4, perplexity: 195.06425602756576\n",
            "source: it, target: fr, n: 4, perplexity: 260.69733835184303\n",
            "source: it, target: in, n: 4, perplexity: 446.0425983836458\n",
            "source: it, target: it, n: 4, perplexity: 77.5719833740448\n",
            "source: it, target: nl, n: 4, perplexity: 378.3317186085557\n",
            "source: it, target: pt, n: 4, perplexity: 227.73604324997166\n",
            "source: it, target: tl, n: 4, perplexity: 361.77821883521597\n",
            "source: nl, target: en, n: 4, perplexity: 228.24381953608034\n",
            "source: nl, target: es, n: 4, perplexity: 329.96829229474963\n",
            "source: nl, target: fr, n: 4, perplexity: 273.14476981026183\n",
            "source: nl, target: in, n: 4, perplexity: 415.09120703980915\n",
            "source: nl, target: it, n: 4, perplexity: 359.7416964655166\n",
            "source: nl, target: nl, n: 4, perplexity: 88.22076828452971\n",
            "source: nl, target: pt, n: 4, perplexity: 390.8544545829229\n",
            "source: nl, target: tl, n: 4, perplexity: 365.2317771581135\n",
            "source: pt, target: en, n: 4, perplexity: 342.51432530728823\n",
            "source: pt, target: es, n: 4, perplexity: 185.24848853543156\n",
            "source: pt, target: fr, n: 4, perplexity: 299.56028244264184\n",
            "source: pt, target: in, n: 4, perplexity: 494.25616259210835\n",
            "source: pt, target: it, n: 4, perplexity: 265.215453581226\n",
            "source: pt, target: nl, n: 4, perplexity: 436.8066864706641\n",
            "source: pt, target: pt, n: 4, perplexity: 73.75210595381863\n",
            "source: pt, target: tl, n: 4, perplexity: 405.4225379198551\n",
            "source: tl, target: en, n: 4, perplexity: 214.06833160847606\n",
            "source: tl, target: es, n: 4, perplexity: 298.8252046866791\n",
            "source: tl, target: fr, n: 4, perplexity: 342.7584069498495\n",
            "source: tl, target: in, n: 4, perplexity: 294.0326984664244\n",
            "source: tl, target: it, n: 4, perplexity: 307.66187511299756\n",
            "source: tl, target: nl, n: 4, perplexity: 357.2316920615605\n",
            "source: tl, target: pt, n: 4, perplexity: 344.4300590112378\n",
            "source: tl, target: tl, n: 4, perplexity: 96.52897796122438\n"
          ]
        },
        {
          "ename": "NameError",
          "evalue": "name 'files' is not defined",
          "output_type": "error",
          "traceback": [
            "\u001b[1;31m---------------------------------------------------------------------------\u001b[0m",
            "\u001b[1;31mNameError\u001b[0m                                 Traceback (most recent call last)",
            "Cell \u001b[1;32mIn[64], line 60\u001b[0m\n\u001b[0;32m     57\u001b[0m     json\u001b[38;5;241m.\u001b[39mdump(res, f, indent\u001b[38;5;241m=\u001b[39m\u001b[38;5;241m2\u001b[39m)\n\u001b[0;32m     59\u001b[0m \u001b[38;5;66;03m# Download the results.json file\u001b[39;00m\n\u001b[1;32m---> 60\u001b[0m \u001b[43mfiles\u001b[49m\u001b[38;5;241m.\u001b[39mdownload(\u001b[38;5;124m'\u001b[39m\u001b[38;5;124mresults.json\u001b[39m\u001b[38;5;124m'\u001b[39m)\n\u001b[0;32m     62\u001b[0m \u001b[38;5;66;03m####################\u001b[39;00m\n",
            "\u001b[1;31mNameError\u001b[0m: name 'files' is not defined"
          ]
        }
      ],
      "source": [
        "####################\n",
        "# PLACE TESTS HERE #\n",
        "# Create tests\n",
        "def test_preprocess():\n",
        "    return {\n",
        "        'vocab_length': len(preprocess()),\n",
        "    }\n",
        "\n",
        "def test_lm():\n",
        "    return {\n",
        "        'english_2_gram_length': len(lm('en', 2, True)),\n",
        "        'english_3_gram_length': len(lm('en', 3, True)),\n",
        "        'french_3_gram_length': len(lm('fr', 3, True)),\n",
        "        'spanish_3_gram_length': len(lm('es', 3, True)),\n",
        "    }\n",
        "\n",
        "def test_eval():\n",
        "    return {\n",
        "        'en_en': eval(lm('en', 3, True), 'en', 3),\n",
        "        'en_fr': eval(lm('en', 3, True), 'fr', 3),\n",
        "        'en_tl': eval(lm('en', 3, True), 'tl', 3),\n",
        "        'en_nl': eval(lm('en', 3, True), 'nl', 3),\n",
        "    }\n",
        "\n",
        "def test_match():\n",
        "    df = match()\n",
        "    return {\n",
        "        'en_en_3': df[(df['source'] == 'en') & (df['target'] == 'en') & (df['n'] == 3)]['perplexity'].values[0],\n",
        "        'en_tl_3': df[(df['source'] == 'en') & (df['target'] == 'tl') & (df['n'] == 3)]['perplexity'].values[0],\n",
        "        'en_nl_3': df[(df['source'] == 'en') & (df['target'] == 'nl') & (df['n'] == 3)]['perplexity'].values[0],\n",
        "    }\n",
        "\n",
        "def test_generate():\n",
        "    return {\n",
        "        'english_1_gram': generate('en', 1, \"I\", 20, 5), \n",
        "        'english_2_gram': generate('en', 2, \"I am\", 20, 5),\n",
        "        'english_3_gram': generate('en', 3, \"I am\", 20, 5),\n",
        "        'english_4_gram': generate('en', 4, \"I Love\", 20, 5),\n",
        "        'spanish_2_gram': generate('es', 2, \"Soy\", 20, 5),\n",
        "        'spanish_3_gram': generate('es', 3, \"Soy\", 20, 5),\n",
        "        'french_2_gram': generate('fr', 2, \"Je suis\", 20, 5),\n",
        "        'french_3_gram': generate('fr', 3, \"Je suis\", 20, 5),\n",
        "    }\n",
        "\n",
        "TESTS = [test_preprocess, test_lm, test_eval, test_match, test_generate]\n",
        "\n",
        "# Run tests and save results\n",
        "res = {}\n",
        "for test in TESTS:\n",
        "    try:\n",
        "        cur_res = test()\n",
        "        res.update({test.__name__: cur_res})\n",
        "    except Exception as e:\n",
        "        res.update({test.__name__: repr(e)})\n",
        "\n",
        "with open('results.json', 'w') as f:\n",
        "    json.dump(res, f, indent=2)\n",
        "\n",
        "# Download the results.json file\n",
        "files.download('results.json')\n",
        "\n",
        "####################"
      ]
    },
    {
      "cell_type": "code",
      "execution_count": null,
      "metadata": {
        "colab": {
          "base_uri": "https://localhost:8080/"
        },
        "id": "kCksAA6RisRQ",
        "outputId": "d0a80d85-f49b-4a1d-bdbc-e9716a9574aa"
      },
      "outputs": [],
      "source": [
        "# Show the local files, results.json should be there now and\n",
        "# also downloaded to your local machine\n",
        "!ls -l"
      ]
    },
    {
      "cell_type": "code",
      "execution_count": null,
      "metadata": {
        "id": "uMSfgUtuiux0"
      },
      "outputs": [],
      "source": [
        "# temp = lm(\"en\", 4)\n",
        "# print"
      ]
    }
  ],
  "metadata": {
    "colab": {
      "provenance": []
    },
    "kernelspec": {
      "display_name": "Python 3",
      "name": "python3"
    },
    "language_info": {
      "codemirror_mode": {
        "name": "ipython",
        "version": 3
      },
      "file_extension": ".py",
      "mimetype": "text/x-python",
      "name": "python",
      "nbconvert_exporter": "python",
      "pygments_lexer": "ipython3",
      "version": "3.12.2"
    }
  },
  "nbformat": 4,
  "nbformat_minor": 0
}
